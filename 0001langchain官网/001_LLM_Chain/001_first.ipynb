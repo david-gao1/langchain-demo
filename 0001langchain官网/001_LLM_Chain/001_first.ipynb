{
 "cells": [
  {
   "cell_type": "code",
   "id": "initial_id",
   "metadata": {
    "collapsed": true,
    "ExecuteTime": {
     "end_time": "2024-07-17T02:49:35.015103Z",
     "start_time": "2024-07-17T02:49:34.732141Z"
    }
   },
   "source": [
    "from langchain_openai import ChatOpenAI\n",
    "# 通过langchain设置chatapi \n",
    "llm = ChatOpenAI()\n",
    "\n",
    "# 不设置环境变量的方式 ,非常不建议这么做\n",
    "#from langchain_openai import ChatOpenAI\n",
    " \n",
    "#llm = ChatOpenAI(api_key=\"...\")"
   ],
   "outputs": [],
   "execution_count": 1
  },
  {
   "metadata": {
    "jupyter": {
     "is_executing": true
    },
    "ExecuteTime": {
     "start_time": "2024-07-17T02:49:39.918872Z"
    }
   },
   "cell_type": "code",
   "source": [
    "# 调用大模型\n",
    "llm.invoke(\"how can langsmith help with testing?\")"
   ],
   "id": "b8195e425092a5a3",
   "outputs": [],
   "execution_count": null
  },
  {
   "metadata": {},
   "cell_type": "code",
   "source": [
    "# 使用提示模板来指导其回答。 \n",
    "# 提示模板将原始用户输入转换为更好的输入以供LLM使用。\n",
    "from langchain_core.prompts import ChatPromptTemplate\n",
    "\n",
    "prompt = ChatPromptTemplate.from_messages([\n",
    "    (\"system\", \"You are world class technical documentation writer.\"),\n",
    "    (\"user\", \"{input}\")\n",
    "])"
   ],
   "id": "cdf1febe599e8a36",
   "outputs": [],
   "execution_count": null
  },
  {
   "metadata": {},
   "cell_type": "code",
   "source": [
    "# 将promt和llm组成一个调用链\n",
    "chain = prompt | llm \n",
    "# 通过链来调用大模型，\n",
    "# 它仍然不会知道答案，但是它应该以更适合技术作家的方式回答。\n",
    "chain.invoke({\"input\": \"how can langsmith help with testing?\"})"
   ],
   "id": "fdd5417bce444bad",
   "outputs": [],
   "execution_count": null
  },
  {
   "metadata": {},
   "cell_type": "code",
   "source": [
    "# ChatModel的输出（因此，也是这个链的输出）是一个消息。\n",
    "# 然而，使用字符串更方便。让我们添加一个简单的输出解析器将聊天消息转换为字符串。\n",
    "\n",
    "from langchain_core.output_parsers import StrOutputParser\n",
    " \n",
    "output_parser = StrOutputParser()\n",
    "\n",
    "# 将其添加到之前的链中：\n",
    "chain = prompt | llm | output_parser\n",
    "\n",
    "# 答案现在将是一个字符串（而不是ChatMessage）。\n",
    "chain.invoke({\"input\": \"how can langsmith help with testing?\"})"
   ],
   "id": "f0c924939ceb9558",
   "outputs": [],
   "execution_count": null
  }
 ],
 "metadata": {
  "kernelspec": {
   "display_name": "langchain-demo",
   "language": "python",
   "name": "langchain-demo"
  },
  "language_info": {
   "codemirror_mode": {
    "name": "ipython",
    "version": 2
   },
   "file_extension": ".py",
   "mimetype": "text/x-python",
   "name": "python",
   "nbconvert_exporter": "python",
   "pygments_lexer": "ipython2",
   "version": "2.7.6"
  }
 },
 "nbformat": 4,
 "nbformat_minor": 5
}
