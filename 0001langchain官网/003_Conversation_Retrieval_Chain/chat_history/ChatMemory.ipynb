{
 "cells": [
  {
   "metadata": {
    "ExecuteTime": {
     "end_time": "2024-07-18T10:21:45.809928Z",
     "start_time": "2024-07-18T10:21:45.777142Z"
    }
   },
   "cell_type": "code",
   "source": [
    "from langchain_community.chat_message_histories import ChatMessageHistory\n",
    "from langchain_core.chat_history import BaseChatMessageHistory\n",
    "from langchain_core.output_parsers import StrOutputParser\n",
    "from langchain_core.runnables.history import RunnableWithMessageHistory\n",
    "from langchain_openai import ChatOpenAI\n",
    "from langchain_core.prompts import ChatPromptTemplate, MessagesPlaceholder\n",
    "\n",
    "# 1. 创建chat链\n",
    "# llm = ChatOpenAI(model=\"gpt-3.5-turbo\", temperature=0)\n",
    "llm = ChatOpenAI()\n",
    "\n",
    "prompt = ChatPromptTemplate.from_messages([\n",
    "    (\"system\",\n",
    "     \"你是一个bi分析专家，用于校验和完善用户是否询问有关bi相关问题，\"\n",
    "     \"用户的问题中要包含：指标集、指标、时间范围\"\n",
    "     \"如不是则引导用户，或者基于历史对话补全用户问题\"\n",
    "     \"如果是则直接返回用户输入的问题，不需做任何解释\"),\n",
    "    MessagesPlaceholder(variable_name=\"chat_history\"),  # 接收历史对话\n",
    "    (\"user\", \"{input}\")\n",
    "])\n",
    "output_parser = StrOutputParser()\n",
    "\n",
    "chain = prompt | llm | output_parser\n",
    "\n",
    "# 2. 对话存储管理\n",
    "### 有状态地管理聊天历史记录 ###\n",
    "store = {}\n",
    "\n",
    "\n",
    "def get_session_history(session_id: str) -> BaseChatMessageHistory:\n",
    "    if session_id not in store:\n",
    "        store[session_id] = ChatMessageHistory()\n",
    "    return store[session_id]\n",
    "\n",
    "\n",
    "with_message_history = RunnableWithMessageHistory(\n",
    "    chain,\n",
    "    get_session_history,\n",
    "    input_messages_key=\"input\",\n",
    "    history_messages_key=\"chat_history\"\n",
    ")"
   ],
   "id": "fe09288b021b52dc",
   "outputs": [],
   "execution_count": 54
  },
  {
   "metadata": {
    "ExecuteTime": {
     "end_time": "2024-07-18T10:21:49.855043Z",
     "start_time": "2024-07-18T10:21:47.960644Z"
    }
   },
   "cell_type": "code",
   "source": [
    "print(with_message_history.invoke(\n",
    "    {\"input\": \"360浏览器近一周的uv\"},\n",
    "    config={\"configurable\": {\"session_id\": \"1\"}},  # 一个对话（多个聊天）中只维护这一个session_id\n",
    "))\n"
   ],
   "id": "e88240939ef85e40",
   "outputs": [
    {
     "name": "stdout",
     "output_type": "stream",
     "text": [
      "360浏览器近一周的UV是多少？\n"
     ]
    }
   ],
   "execution_count": 55
  },
  {
   "metadata": {
    "ExecuteTime": {
     "end_time": "2024-07-18T10:23:50.468547Z",
     "start_time": "2024-07-18T10:23:48.703434Z"
    }
   },
   "cell_type": "code",
   "source": [
    "print(with_message_history.invoke(\n",
    "    {\"input\": \"pv是多少\"},\n",
    "    config={\"configurable\": {\"session_id\": \"1\"}},\n",
    "))\n"
   ],
   "id": "3c3190a061448a5a",
   "outputs": [
    {
     "name": "stdout",
     "output_type": "stream",
     "text": [
      "360浏览器近一周的UV是多少？\n"
     ]
    }
   ],
   "execution_count": 63
  },
  {
   "metadata": {
    "ExecuteTime": {
     "end_time": "2024-07-18T10:22:29.991987Z",
     "start_time": "2024-07-18T10:22:29.318960Z"
    }
   },
   "cell_type": "code",
   "source": [
    "with_message_history.invoke(\n",
    "    {\"input\": \"uv是多少\"},\n",
    "    config={\"configurable\": {\"session_id\": \"1\"}},\n",
    ")"
   ],
   "id": "f08fba563e1f2d42",
   "outputs": [
    {
     "data": {
      "text/plain": [
       "'uv是多少'"
      ]
     },
     "execution_count": 60,
     "metadata": {},
     "output_type": "execute_result"
    }
   ],
   "execution_count": 60
  },
  {
   "metadata": {
    "ExecuteTime": {
     "end_time": "2024-07-18T10:22:48.266083Z",
     "start_time": "2024-07-18T10:22:46.806360Z"
    }
   },
   "cell_type": "code",
   "source": [
    "with_message_history.invoke(\n",
    "    {\"input\": \"近一周\"},\n",
    "    config={\"configurable\": {\"session_id\": \"1\"}},\n",
    ")"
   ],
   "id": "45cb1339c9ed7d55",
   "outputs": [
    {
     "data": {
      "text/plain": [
       "'请问您想了解360浏览器近一周的UV是多少吗？'"
      ]
     },
     "execution_count": 62,
     "metadata": {},
     "output_type": "execute_result"
    }
   ],
   "execution_count": 62
  }
 ],
 "metadata": {
  "kernelspec": {
   "display_name": "langchain-demo",
   "language": "python",
   "name": "langchain-demo"
  },
  "language_info": {
   "codemirror_mode": {
    "name": "ipython",
    "version": 2
   },
   "file_extension": ".py",
   "mimetype": "text/x-python",
   "name": "python",
   "nbconvert_exporter": "python",
   "pygments_lexer": "ipython2",
   "version": "2.7.6"
  }
 },
 "nbformat": 4,
 "nbformat_minor": 5
}
