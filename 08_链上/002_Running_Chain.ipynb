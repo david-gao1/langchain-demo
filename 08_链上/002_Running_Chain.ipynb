{
 "cells": [
  {
   "cell_type": "code",
   "id": "initial_id",
   "metadata": {
    "collapsed": true,
    "ExecuteTime": {
     "end_time": "2024-08-09T07:48:36.897558Z",
     "start_time": "2024-08-09T07:48:36.424852Z"
    }
   },
   "source": [
    "from langchain import PromptTemplate, OpenAI, LLMChain\n",
    "# 设置提示模板\n",
    "prompt = PromptTemplate(\n",
    "    input_variables=[\"flower\", \"season\"],\n",
    "    template=\"{flower}在{season}的花语是?\"\n",
    ")\n",
    "# 初始化链\n",
    "llm_chain = LLMChain(llm=OpenAI(temperature=0), prompt=prompt)\n"
   ],
   "outputs": [
    {
     "name": "stderr",
     "output_type": "stream",
     "text": [
      "/Users/lianggao/miniconda3/envs/langchain-demo/lib/python3.11/site-packages/langchain_core/_api/deprecation.py:139: LangChainDeprecationWarning: The class `OpenAI` was deprecated in LangChain 0.0.10 and will be removed in 0.3.0. An updated version of the class exists in the langchain-openai package and should be used instead. To use it run `pip install -U langchain-openai` and import as `from langchain_openai import OpenAI`.\n",
      "  warn_deprecated(\n",
      "/Users/lianggao/miniconda3/envs/langchain-demo/lib/python3.11/site-packages/langchain_core/_api/deprecation.py:139: LangChainDeprecationWarning: The class `LLMChain` was deprecated in LangChain 0.1.17 and will be removed in 1.0. Use RunnableSequence, e.g., `prompt | llm` instead.\n",
      "  warn_deprecated(\n"
     ]
    }
   ],
   "execution_count": 1
  },
  {
   "metadata": {},
   "cell_type": "markdown",
   "source": "",
   "id": "b85b05980653e677"
  },
  {
   "metadata": {
    "ExecuteTime": {
     "end_time": "2024-08-09T07:48:43.633311Z",
     "start_time": "2024-08-09T07:48:41.703630Z"
    }
   },
   "cell_type": "code",
   "source": [
    "# 调用链\n",
    "response = llm_chain({\n",
    "    'flower': \"玫瑰\",\n",
    "    'season': \"夏季\"\n",
    "})\n",
    "print(response)\n"
   ],
   "id": "4ce1e32cc6afd442",
   "outputs": [
    {
     "name": "stderr",
     "output_type": "stream",
     "text": [
      "/Users/lianggao/miniconda3/envs/langchain-demo/lib/python3.11/site-packages/langchain_core/_api/deprecation.py:139: LangChainDeprecationWarning: The method `Chain.__call__` was deprecated in langchain 0.1.0 and will be removed in 0.3.0. Use invoke instead.\n",
      "  warn_deprecated(\n"
     ]
    },
    {
     "name": "stdout",
     "output_type": "stream",
     "text": [
      "{'flower': '玫瑰', 'season': '夏季', 'text': '\\n\\n夏季的花语是热情、欢乐、活力和爱情。'}\n"
     ]
    }
   ],
   "execution_count": 2
  },
  {
   "metadata": {
    "ExecuteTime": {
     "end_time": "2024-08-09T07:48:52.949714Z",
     "start_time": "2024-08-09T07:48:51.780367Z"
    }
   },
   "cell_type": "code",
   "source": [
    "# run方法\n",
    "llm_chain.run({\n",
    "    'flower': \"玫瑰\",\n",
    "    'season': \"夏季\"\n",
    "})"
   ],
   "id": "d9c1fde1642fc8ad",
   "outputs": [
    {
     "name": "stderr",
     "output_type": "stream",
     "text": [
      "/Users/lianggao/miniconda3/envs/langchain-demo/lib/python3.11/site-packages/langchain_core/_api/deprecation.py:139: LangChainDeprecationWarning: The method `Chain.run` was deprecated in langchain 0.1.0 and will be removed in 0.3.0. Use invoke instead.\n",
      "  warn_deprecated(\n"
     ]
    },
    {
     "data": {
      "text/plain": [
       "'\\n\\n夏季的花语是热情、欢乐、活力和爱情。'"
      ]
     },
     "execution_count": 3,
     "metadata": {},
     "output_type": "execute_result"
    }
   ],
   "execution_count": 3
  },
  {
   "metadata": {
    "ExecuteTime": {
     "end_time": "2024-08-09T07:49:01.033832Z",
     "start_time": "2024-08-09T07:48:59.978236Z"
    }
   },
   "cell_type": "code",
   "source": [
    "# predict方法\n",
    "result = llm_chain.predict(flower=\"玫瑰\", season=\"夏季\")\n",
    "print(result)  "
   ],
   "id": "7a34dcd640e5714d",
   "outputs": [
    {
     "name": "stdout",
     "output_type": "stream",
     "text": [
      "\n",
      "\n",
      "夏季的花语是热情、欢乐、活力和爱情。\n"
     ]
    }
   ],
   "execution_count": 4
  },
  {
   "metadata": {},
   "cell_type": "markdown",
   "source": "# 调用了多次大模型？",
   "id": "9beff4534c8eec1"
  },
  {
   "metadata": {
    "ExecuteTime": {
     "end_time": "2024-08-09T07:49:08.937397Z",
     "start_time": "2024-08-09T07:49:06.377018Z"
    }
   },
   "cell_type": "code",
   "source": [
    "# apply方法允许您针对输入列表运行链\n",
    "input_list = [\n",
    "    {\"flower\": \"玫瑰\", 'season': \"夏季\"},\n",
    "    {\"flower\": \"百合\", 'season': \"春季\"},\n",
    "    {\"flower\": \"郁金香\", 'season': \"秋季\"}\n",
    "]\n",
    "result = llm_chain.apply(input_list)\n",
    "print(result)"
   ],
   "id": "a12331c914e36240",
   "outputs": [
    {
     "name": "stdout",
     "output_type": "stream",
     "text": [
      "[{'text': '\\n\\n夏季的花语是热情、欢乐、活力和爱情。'}, {'text': '\\n\\n春天的百合花语是希望、新生和纯洁。它象征着新的开始和希望的到来，也代表着纯洁无暇的爱情和美好的未来。'}, {'text': '\\n\\n秋季的郁金香花语是“感恩与感激”。它代表着对生活的感激和对过去的感恩，也象征着对未来的希望和期待。在秋季，郁金香的花朵绽放，给人们带来美好的感受，让人们感受到生活的美好和幸福。因此，它也被视为一种感恩的象征。'}]\n"
     ]
    }
   ],
   "execution_count": 5
  },
  {
   "metadata": {
    "ExecuteTime": {
     "end_time": "2024-08-09T07:49:52.901914Z",
     "start_time": "2024-08-09T07:49:50.412398Z"
    }
   },
   "cell_type": "code",
   "source": [
    "# generate方法\n",
    "result = llm_chain.generate(input_list)\n",
    "print(result)"
   ],
   "id": "730d076e3c51de8b",
   "outputs": [
    {
     "name": "stdout",
     "output_type": "stream",
     "text": [
      "generations=[[Generation(text='\\n\\n夏季的花语是热情、欢乐、活力和爱情。', generation_info={'finish_reason': 'stop', 'logprobs': None})], [Generation(text='\\n\\n春天的百合花语是希望、新生和纯洁。它象征着新的开始和希望的到来，也代表着纯洁无暇的爱情和美好的未来。', generation_info={'finish_reason': 'stop', 'logprobs': None})], [Generation(text='\\n\\n秋季的郁金香花语是“感恩与感激”。它代表着对生活的感激和对过去的感恩，也象征着对未来的希望和期待。在秋季，郁金香的花朵绽放，给人们带来美好的感受，让人们感受到生活的美好和幸福。因此，它也被视为一种感恩的象征。', generation_info={'finish_reason': 'stop', 'logprobs': None})]] llm_output={'token_usage': {'prompt_tokens': 46, 'completion_tokens': 232, 'total_tokens': 278}, 'model_name': 'gpt-3.5-turbo-instruct'} run=[RunInfo(run_id=UUID('46a949bf-daf7-46b6-93ca-b5c9dcde79b7')), RunInfo(run_id=UUID('6145b328-3faa-4936-8855-411d64a87665')), RunInfo(run_id=UUID('d4b899c5-986e-4c4e-92f4-e7bbf764d49c'))]\n"
     ]
    }
   ],
   "execution_count": 6
  },
  {
   "metadata": {},
   "cell_type": "code",
   "outputs": [],
   "execution_count": null,
   "source": "",
   "id": "ae9d92e178704cd0"
  }
 ],
 "metadata": {
  "kernelspec": {
   "display_name": "langchain-demo",
   "language": "python",
   "name": "langchain-demo"
  },
  "language_info": {
   "codemirror_mode": {
    "name": "ipython",
    "version": 2
   },
   "file_extension": ".py",
   "mimetype": "text/x-python",
   "name": "python",
   "nbconvert_exporter": "python",
   "pygments_lexer": "ipython2",
   "version": "2.7.6"
  }
 },
 "nbformat": 4,
 "nbformat_minor": 5
}
