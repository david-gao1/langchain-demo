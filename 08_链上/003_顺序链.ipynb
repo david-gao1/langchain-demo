{
 "cells": [
  {
   "cell_type": "code",
   "id": "initial_id",
   "metadata": {
    "collapsed": true,
    "ExecuteTime": {
     "end_time": "2024-08-09T08:04:27.822098Z",
     "start_time": "2024-08-09T08:04:27.344686Z"
    }
   },
   "source": [
    "# 导入所需要的库\n",
    "from langchain.llms import OpenAI\n",
    "from langchain.chains import LLMChain, SequentialChain\n",
    "from langchain.prompts import PromptTemplate\n",
    "\n",
    "# 第一个LLMChain：生成鲜花的介绍\n",
    "llm = OpenAI(temperature=.7)\n",
    "template = \"\"\"\n",
    "你是一个植物学家。给定花的名称和类型，你需要为这种花写一个200字左右的介绍。\n",
    "花名: {name}\n",
    "颜色: {color}\n",
    "植物学家: 这是关于上述花的介绍:\"\"\"\n",
    "prompt_template = PromptTemplate(\n",
    "    input_variables=[\"name\", \"color\"],\n",
    "    template=template\n",
    ")\n",
    "introduction_chain = LLMChain(\n",
    "    llm=llm,\n",
    "    prompt=prompt_template,\n",
    "    output_key=\"introduction\" # 这里的输出，传到下一个链中\n",
    ")"
   ],
   "outputs": [
    {
     "name": "stderr",
     "output_type": "stream",
     "text": [
      "/Users/lianggao/miniconda3/envs/langchain-demo/lib/python3.11/site-packages/langchain_core/_api/deprecation.py:139: LangChainDeprecationWarning: The class `OpenAI` was deprecated in LangChain 0.0.10 and will be removed in 0.3.0. An updated version of the class exists in the langchain-openai package and should be used instead. To use it run `pip install -U langchain-openai` and import as `from langchain_openai import OpenAI`.\n",
      "  warn_deprecated(\n",
      "/Users/lianggao/miniconda3/envs/langchain-demo/lib/python3.11/site-packages/langchain_core/_api/deprecation.py:139: LangChainDeprecationWarning: The class `LLMChain` was deprecated in LangChain 0.1.17 and will be removed in 1.0. Use RunnableSequence, e.g., `prompt | llm` instead.\n",
      "  warn_deprecated(\n"
     ]
    }
   ],
   "execution_count": 1
  },
  {
   "metadata": {
    "ExecuteTime": {
     "end_time": "2024-08-09T08:04:30.914054Z",
     "start_time": "2024-08-09T08:04:30.911174Z"
    }
   },
   "cell_type": "code",
   "source": [
    "# 第二个LLMChain：根据鲜花的介绍写出鲜花的评论\n",
    "template = \"\"\"\n",
    "你是一位鲜花评论家。给定一种花的介绍，你需要为这种花写一篇200字左右的评论。\n",
    "鲜花介绍:\n",
    "{introduction}\n",
    "花评人对上述花的评论:\"\"\"\n",
    "prompt_template = PromptTemplate(\n",
    "    input_variables=[\"introduction\"], # 接收上一个链的输出\n",
    "    template=template\n",
    ")\n",
    "review_chain = LLMChain(\n",
    "    llm=llm,\n",
    "    prompt=prompt_template,\n",
    "    output_key=\"review\"\n",
    ")"
   ],
   "id": "16f75fa59d8dc81a",
   "outputs": [],
   "execution_count": 2
  },
  {
   "metadata": {
    "ExecuteTime": {
     "end_time": "2024-08-09T08:04:41.756818Z",
     "start_time": "2024-08-09T08:04:41.753845Z"
    }
   },
   "cell_type": "code",
   "source": [
    "# 第三个LLMChain：根据鲜花的介绍和评论写出一篇自媒体的文案\n",
    "template = \"\"\"\n",
    "你是一家花店的社交媒体经理。给定一种花的介绍和评论，你需要为这种花写一篇社交媒体的帖子，300字左右。\n",
    "鲜花介绍:\n",
    "{introduction}\n",
    "花评人对上述花的评论:\n",
    "{review}\n",
    "社交媒体帖子:\n",
    "\"\"\"\n",
    "prompt_template = PromptTemplate(\n",
    "    input_variables=[\"introduction\", \"review\"], # 接收上两个链的输出\n",
    "    template=template \n",
    ")\n",
    "social_post_chain = LLMChain(\n",
    "    llm=llm,\n",
    "    prompt=prompt_template,\n",
    "    output_key=\"social_post_text\" # 输出字段\n",
    ")\n",
    "\n"
   ],
   "id": "34106bff48b3da1a",
   "outputs": [],
   "execution_count": 4
  },
  {
   "metadata": {
    "ExecuteTime": {
     "end_time": "2024-08-09T08:04:54.696664Z",
     "start_time": "2024-08-09T08:04:43.929819Z"
    }
   },
   "cell_type": "code",
   "source": [
    "# 总的链：按顺序运行三个链\n",
    "overall_chain = SequentialChain(\n",
    "    chains=[introduction_chain, review_chain, social_post_chain],\n",
    "    input_variables=[\"name\", \"color\"],\n",
    "    output_variables=[\"introduction\", \"review\", \"social_post_text\"], # 所有链的输出\n",
    "    verbose=True\n",
    ")\n",
    "\n",
    "# 运行链并打印结果\n",
    "result = overall_chain({\n",
    "    \"name\": \"玫瑰\",\n",
    "    \"color\": \"黑色\"\n",
    "})\n",
    "print(result)\n"
   ],
   "id": "c255a77c752fc81b",
   "outputs": [
    {
     "name": "stderr",
     "output_type": "stream",
     "text": [
      "/Users/lianggao/miniconda3/envs/langchain-demo/lib/python3.11/site-packages/langchain_core/_api/deprecation.py:139: LangChainDeprecationWarning: The method `Chain.__call__` was deprecated in langchain 0.1.0 and will be removed in 0.3.0. Use invoke instead.\n",
      "  warn_deprecated(\n"
     ]
    },
    {
     "name": "stdout",
     "output_type": "stream",
     "text": [
      "\n",
      "\n",
      "\u001B[1m> Entering new SequentialChain chain...\u001B[0m\n",
      "\n",
      "\u001B[1m> Finished chain.\u001B[0m\n",
      "{'name': '玫瑰', 'color': '黑色', 'introduction': '\\n\\n玫瑰是一种美丽的花朵，也是最受欢迎的花之一。它的名字来自于拉丁文“rosa”，意为“红色”，但实际上，它有许多不同的颜色，包括黑色。黑色玫瑰是一种罕见的花朵，它给人一种神秘和优雅的感觉。\\n\\n黑色玫瑰的花瓣是深黑色的，有时候带有紫色的色调。它们通常比普通的玫瑰花更大，花瓣也更加饱满。花朵的形状也有所不同，有些是像球状的，有些则是像杯子一样。不管是哪种形状，黑色玫瑰都令人惊叹。\\n\\n这种花的起源并不明', 'review': '\\n\\n黑色玫瑰是一种充满神秘感的花朵，它的深黑色花瓣散发着一种优雅的气息。这种罕见的花朵给人一种神秘而又迷人的感觉，让人不禁沉醉在它的美丽中。\\n\\n一朵黑色玫瑰的花瓣比普通的玫瑰更加饱满，花朵的大小也更加惊人。有的花瓣像球状，有的像杯子一样，但不管是哪种形状，都散发出一种独特的魅力。\\n\\n这种花的起源仍然是一个谜，但它的存在却让人惊叹不已。它的名字虽然是“黑色玫瑰”，但实际上它的', 'social_post_text': '\\n大家好！今天我要向大家介绍一种美丽的花朵——黑色玫瑰。它的名字来自于拉丁文“rosa”，意为“红色”，但实际上，它有多种颜色，其中最特别的就是深黑色。这种罕见的花朵给人一种神秘和优雅的感觉。\\n\\n黑色玫瑰的花瓣是深黑色的，有时候带有紫色的色调。它们比普通的玫瑰花更大，花瓣也更加饱满。花朵的形状也有所不同，有些是像球状的，有些则是像杯子一样。无论哪种形状，黑色玫瑰都令人惊叹。\\n\\n这种花的起源仍然是一个谜，但它的存在'}\n"
     ]
    }
   ],
   "execution_count": 5
  },
  {
   "metadata": {},
   "cell_type": "code",
   "outputs": [],
   "execution_count": null,
   "source": "",
   "id": "1ce5f6e0a16f5db4"
  }
 ],
 "metadata": {
  "kernelspec": {
   "display_name": "langchain-demo",
   "language": "python",
   "name": "langchain-demo"
  },
  "language_info": {
   "codemirror_mode": {
    "name": "ipython",
    "version": 2
   },
   "file_extension": ".py",
   "mimetype": "text/x-python",
   "name": "python",
   "nbconvert_exporter": "python",
   "pygments_lexer": "ipython2",
   "version": "2.7.6"
  }
 },
 "nbformat": 4,
 "nbformat_minor": 5
}
