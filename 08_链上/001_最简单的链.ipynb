{
 "cells": [
  {
   "metadata": {},
   "cell_type": "markdown",
   "source": "# 1. 没有链",
   "id": "eb8551e9dfe6ab8b"
  },
  {
   "metadata": {},
   "cell_type": "code",
   "outputs": [],
   "execution_count": null,
   "source": [
    "\n",
    "from langchain import PromptTemplate\n",
    "\n",
    "template = \"{flower}的花语是?\"\n",
    "prompt_temp = PromptTemplate.from_template(template)\n",
    "prompt = prompt_temp.format(flower='玫瑰')\n",
    "\n",
    "from langchain import OpenAI\n",
    "\n",
    "model = OpenAI(temperature=0)\n",
    "result = model(prompt)\n",
    "print(result)"
   ],
   "id": "14be5d8e14cc040b"
  },
  {
   "metadata": {},
   "cell_type": "markdown",
   "source": "# 2. 最简单的链",
   "id": "416385a5bcd1e783"
  },
  {
   "cell_type": "code",
   "id": "initial_id",
   "metadata": {
    "collapsed": true,
    "ExecuteTime": {
     "end_time": "2024-08-09T07:42:29.563702Z",
     "start_time": "2024-08-09T07:41:52.599633Z"
    }
   },
   "source": [
    "from langchain import PromptTemplate, LLMChain\n",
    "from langchain_openai import OpenAI\n",
    "\n",
    "template = \"{flower}的花语是?\"\n",
    "llm_chain = LLMChain(  # 创建LLMChain\n",
    "    llm=OpenAI(temperature=0),\n",
    "    prompt=PromptTemplate.from_template(template))\n",
    "# 调用LLMChain，返回结果\n",
    "result = llm_chain(\"玫瑰\")\n",
    "print(result)"
   ],
   "outputs": [
    {
     "name": "stdout",
     "output_type": "stream",
     "text": [
      "{'flower': '玫瑰', 'text': '\\n\\n爱情、美丽、浪漫、温柔、热情、欢乐、尊敬、感激、祝福、纯洁、永恒。'}\n"
     ]
    }
   ],
   "execution_count": 3
  }
 ],
 "metadata": {
  "kernelspec": {
   "display_name": "langchain-demo",
   "language": "python",
   "name": "langchain-demo"
  },
  "language_info": {
   "codemirror_mode": {
    "name": "ipython",
    "version": 2
   },
   "file_extension": ".py",
   "mimetype": "text/x-python",
   "name": "python",
   "nbconvert_exporter": "python",
   "pygments_lexer": "ipython2",
   "version": "2.7.6"
  }
 },
 "nbformat": 4,
 "nbformat_minor": 5
}
