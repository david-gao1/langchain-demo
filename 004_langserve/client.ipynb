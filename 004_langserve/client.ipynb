{
 "cells": [
  {
   "metadata": {
    "ExecuteTime": {
     "end_time": "2024-07-17T06:31:07.477442Z",
     "start_time": "2024-07-17T06:30:56.726196Z"
    }
   },
   "cell_type": "code",
   "source": [
    "from langserve import RemoteRunnable\n",
    " \n",
    "remote_chain = RemoteRunnable(\"http://localhost:8000/agent/\")\n",
    "remote_chain.invoke({\n",
    "    \"input\": \"how can langsmith help with testing?\",\n",
    "    \"chat_history\": []  # 提供空列表作为这是第一个调用\n",
    "})"
   ],
   "id": "e5655538b12ea529",
   "outputs": [
    {
     "data": {
      "text/plain": [
       "{'output': 'LangSmith can help with testing in various ways throughout the application development lifecycle. Here are some key ways LangSmith supports testing:\\n\\n1. Prototyping: LangSmith allows for quick experimentation between prompts, model types, retrieval strategies, and other parameters to understand how the model is performing during the prototyping phase.\\n\\n2. Debugging: LangSmith provides tracing capabilities to debug issues in LLM applications by giving clear visibility and debugging information at each step of an LLM sequence.\\n\\n3. Initial Test Set: Developers can create datasets of inputs and reference outputs to run tests on LLM applications. LangSmith makes it easy to run custom evaluations to score test results.\\n\\n4. Comparison View: LangSmith offers a comparison view for test runs to track and diagnose regressions in test scores across multiple revisions of an application.\\n\\n5. Playground: LangSmith provides a playground environment for rapid iteration and experimentation with different prompts and models.\\n\\n6. Beta Testing: Developers can collect data on how LLM applications perform in real-world scenarios during beta testing. Feedback collection and run annotation are critical for this workflow.\\n\\n7. Capturing Feedback: LangSmith allows for gathering human feedback on the responses produced by the application and attaching feedback scores to logged traces.\\n\\n8. Annotating Traces: Users can send runs to annotation queues to closely inspect interesting traces and annotate them with different criteria.\\n\\n9. Adding Runs to a Dataset: LangSmith enables adding runs as examples to datasets to expand test coverage on real-world scenarios.\\n\\n10. Production Monitoring: LangSmith provides monitoring charts to track key metrics over time, allowing users to inspect application performance with respect to latency, cost, and feedback scores in production.\\n\\n11. A/B Testing: LangSmith supports A/B testing changes in prompt, model, or retrieval strategy by allowing users to mark different versions of applications with different identifiers and view their performance side-by-side.\\n\\n12. Automations: Automations in LangSmith allow for performing actions on traces in near real-time, such as automatically scoring traces, sending them to annotation queues, or datasets.\\n\\nOverall, LangSmith offers a comprehensive set of tools and features to facilitate testing and monitoring of LLM applications at various stages of development.'}"
      ]
     },
     "execution_count": 1,
     "metadata": {},
     "output_type": "execute_result"
    }
   ],
   "execution_count": 1
  },
  {
   "metadata": {
    "ExecuteTime": {
     "end_time": "2024-07-17T06:30:54.814445Z",
     "start_time": "2024-07-17T06:30:54.813105Z"
    }
   },
   "cell_type": "code",
   "source": "",
   "id": "ba2f90d3a36c5ab0",
   "outputs": [],
   "execution_count": null
  },
  {
   "metadata": {},
   "cell_type": "code",
   "outputs": [],
   "execution_count": null,
   "source": "",
   "id": "9fe48666fe0622b3"
  }
 ],
 "metadata": {
  "kernelspec": {
   "display_name": "langchain-demo",
   "language": "python",
   "name": "langchain-demo"
  },
  "language_info": {
   "codemirror_mode": {
    "name": "ipython",
    "version": 2
   },
   "file_extension": ".py",
   "mimetype": "text/x-python",
   "name": "python",
   "nbconvert_exporter": "python",
   "pygments_lexer": "ipython2",
   "version": "2.7.6"
  }
 },
 "nbformat": 4,
 "nbformat_minor": 5
}
