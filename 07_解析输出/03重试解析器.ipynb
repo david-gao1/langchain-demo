{
 "cells": [
  {
   "cell_type": "code",
   "id": "initial_id",
   "metadata": {
    "collapsed": true,
    "ExecuteTime": {
     "end_time": "2024-08-09T06:27:33.449652Z",
     "start_time": "2024-08-09T06:27:33.444369Z"
    }
   },
   "source": [
    "from pydantic import BaseModel, Field\n",
    "\n",
    "class Action(BaseModel):\n",
    "    action: str = Field(description=\"action to take\")\n",
    "    action_input: str = Field(description=\"input to the action\")\n",
    "\n",
    "\n",
    "from langchain.output_parsers import PydanticOutputParser\n",
    "from langchain.prompts import PromptTemplate\n",
    "\n",
    "parser = PydanticOutputParser(pydantic_object=Action)\n",
    "prompt = PromptTemplate(\n",
    "    template=\"Answer the user query.\\n{format_instructions}\\n{query}\\n\",\n",
    "    input_variables=[\"query\"],\n",
    "    partial_variables={\"format_instructions\": parser.get_format_instructions()},\n",
    ")\n",
    "prompt_value = prompt.format_prompt(query=\"What are the colors of Orchid?\")\n",
    "print(prompt_value)"
   ],
   "outputs": [
    {
     "name": "stdout",
     "output_type": "stream",
     "text": [
      "text='Answer the user query.\\nThe output should be formatted as a JSON instance that conforms to the JSON schema below.\\n\\nAs an example, for the schema {\"properties\": {\"foo\": {\"title\": \"Foo\", \"description\": \"a list of strings\", \"type\": \"array\", \"items\": {\"type\": \"string\"}}}, \"required\": [\"foo\"]}\\nthe object {\"foo\": [\"bar\", \"baz\"]} is a well-formatted instance of the schema. The object {\"properties\": {\"foo\": [\"bar\", \"baz\"]}} is not well-formatted.\\n\\nHere is the output schema:\\n```\\n{\"properties\": {\"action\": {\"description\": \"action to take\", \"title\": \"Action\", \"type\": \"string\"}, \"action_input\": {\"description\": \"input to the action\", \"title\": \"Action Input\", \"type\": \"string\"}}, \"required\": [\"action\", \"action_input\"]}\\n```\\nWhat are the colors of Orchid?\\n'\n"
     ]
    }
   ],
   "execution_count": 5
  },
  {
   "metadata": {},
   "cell_type": "markdown",
   "source": "#  使用OutputFixingParser",
   "id": "a8bf44a7cf364636"
  },
  {
   "metadata": {
    "ExecuteTime": {
     "end_time": "2024-08-09T06:58:00.721672Z",
     "start_time": "2024-08-09T06:57:58.076249Z"
    }
   },
   "cell_type": "code",
   "source": [
    "# 定义一个错误格式的字符串\n",
    "bad_response = '{\"action\": \"search\"}'\n",
    "# parser.parse(bad_response) # 如果直接解析，它会引发一个错误\n",
    "\n",
    "# 尝试用OutputFixingParser来解决这个问题\n",
    "from langchain.output_parsers import OutputFixingParser\n",
    "from langchain_openai import ChatOpenAI\n",
    "\n",
    "fix_parser = OutputFixingParser.from_llm(parser=parser, llm=ChatOpenAI())\n",
    "parse_result = fix_parser.parse(bad_response)\n",
    "print('OutputFixingParser的parse结果:', parse_result)\n"
   ],
   "id": "b73e52864e20b81d",
   "outputs": [
    {
     "name": "stdout",
     "output_type": "stream",
     "text": [
      "OutputFixingParser的parse结果: action='search' action_input='keyword'\n"
     ]
    }
   ],
   "execution_count": 14
  },
  {
   "metadata": {},
   "cell_type": "markdown",
   "source": "# 使用RetryWithErrorOutputParser",
   "id": "39a214c48f89a8ba"
  },
  {
   "metadata": {
    "ExecuteTime": {
     "end_time": "2024-08-09T06:58:53.939928Z",
     "start_time": "2024-08-09T06:58:52.883326Z"
    }
   },
   "cell_type": "code",
   "source": [
    "# 初始化RetryWithErrorOutputParser，它会尝试再次提问来得到一个正确的输出\n",
    "from langchain.output_parsers import RetryWithErrorOutputParser\n",
    "from langchain.llms import OpenAI\n",
    "\n",
    "model = OpenAI(temperature=0)\n",
    "retry_parser = RetryWithErrorOutputParser.from_llm(\n",
    "    parser=parser, llm=model\n",
    ")\n",
    "\n",
    "parse_result = retry_parser.parse_with_prompt(bad_response, prompt_value)\n",
    "print('RetryWithErrorOutputParser的parse结果:', parse_result)"
   ],
   "id": "5557335bd5ee6e96",
   "outputs": [
    {
     "name": "stdout",
     "output_type": "stream",
     "text": [
      "RetryWithErrorOutputParser的parse结果: action='search' action_input='colors of Orchid'\n"
     ]
    }
   ],
   "execution_count": 16
  },
  {
   "metadata": {},
   "cell_type": "code",
   "outputs": [],
   "execution_count": null,
   "source": "",
   "id": "72ed1110c01d6828"
  }
 ],
 "metadata": {
  "kernelspec": {
   "display_name": "langchain-demo",
   "language": "python",
   "name": "langchain-demo"
  },
  "language_info": {
   "codemirror_mode": {
    "name": "ipython",
    "version": 2
   },
   "file_extension": ".py",
   "mimetype": "text/x-python",
   "name": "python",
   "nbconvert_exporter": "python",
   "pygments_lexer": "ipython2",
   "version": "2.7.6"
  }
 },
 "nbformat": 4,
 "nbformat_minor": 5
}
