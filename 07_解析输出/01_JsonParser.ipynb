{
 "cells": [
  {
   "metadata": {},
   "cell_type": "markdown",
   "source": "# 1. 基于类构建输出格式的prompt",
   "id": "dddafcbd731fb"
  },
  {
   "metadata": {},
   "cell_type": "markdown",
   "source": "",
   "id": "8bf407dcb48cc867"
  },
  {
   "cell_type": "code",
   "id": "initial_id",
   "metadata": {
    "collapsed": true,
    "ExecuteTime": {
     "end_time": "2024-08-09T06:41:41.102702Z",
     "start_time": "2024-08-09T06:41:41.095849Z"
    }
   },
   "source": [
    "from langchain_openai import OpenAI\n",
    "import pandas as pd\n",
    "from pydantic import BaseModel, Field\n",
    "from langchain.output_parsers import PydanticOutputParser\n",
    "from langchain import PromptTemplate\n",
    "\n",
    "\n",
    "# 定义接收的数据格式\n",
    "class FlowerDescription(BaseModel):\n",
    "    flower_type: str = Field(description=\"鲜花的种类\")\n",
    "    price: str = Field(description=\"鲜花的价格\")\n",
    "    description: str = Field(description=\"鲜花的描述文案\")\n",
    "    reason: str = Field(description=\"为什么要这样写这个文案\")\n",
    "\n",
    "\n",
    "output_parser = PydanticOutputParser(pydantic_object=FlowerDescription)\n",
    "output_format_prompt = output_parser.get_format_instructions()  ## 获取输出格式指示\n",
    "# 打印提示\n",
    "# print(\"输出格式：\", format_instructions)\n",
    "# print(\"============\")\n",
    "\n",
    "\n",
    "# todo:这个prompt有点长\n",
    "'''\n",
    "'\\n输出格式： The output should be formatted as a JSON instance that conforms to the JSON schema below.\\n\\nAs an example, for the schema {\"properties\": {\"foo\": {\"title\": \"Foo\", \"description\": \"a list of strings\", \"type\": \"array\", \"items\": {\"type\": \"string\"}}}, \"required\": [\"foo\"]}\\nthe object {\"foo\": [\"bar\", \"baz\"]} is a well-formatted instance of the schema. The object {\"properties\": {\"foo\": [\"bar\", \"baz\"]}} is not well-formatted.\\n\\nHere is the output schema:\\n```\\n{\"properties\": {\"flower_type\": {\"description\": \"鲜花的种类\", \"title\": \"Flower Type\", \"type\": \"string\"}, \\n\"price\": {\"description\": \"鲜花的价格\", \"title\": \"Price\", \"type\": \"integer\"}, \\n\"description\": {\"description\": \"鲜花的描述文案\", \"title\": \"Description\", \"type\": \"string\"}, \\n\"reason\": {\"description\": \"为什么要这样写这个文案\", \"title\": \"Reason\", \"type\": \"string\"}},\\n \"required\": [\"flower_type\", \"price\", \"description\", \"reason\"]}\\n```\\n'\n",
    "'''"
   ],
   "outputs": [
    {
     "data": {
      "text/plain": [
       "'\\n\\'\\n输出格式： The output should be formatted as a JSON instance that conforms to the JSON schema below.\\n\\nAs an example, for the schema {\"properties\": {\"foo\": {\"title\": \"Foo\", \"description\": \"a list of strings\", \"type\": \"array\", \"items\": {\"type\": \"string\"}}}, \"required\": [\"foo\"]}\\nthe object {\"foo\": [\"bar\", \"baz\"]} is a well-formatted instance of the schema. The object {\"properties\": {\"foo\": [\"bar\", \"baz\"]}} is not well-formatted.\\n\\nHere is the output schema:\\n```\\n{\"properties\": {\"flower_type\": {\"description\": \"鲜花的种类\", \"title\": \"Flower Type\", \"type\": \"string\"}, \\n\"price\": {\"description\": \"鲜花的价格\", \"title\": \"Price\", \"type\": \"integer\"}, \\n\"description\": {\"description\": \"鲜花的描述文案\", \"title\": \"Description\", \"type\": \"string\"}, \\n\"reason\": {\"description\": \"为什么要这样写这个文案\", \"title\": \"Reason\", \"type\": \"string\"}},\\n \"required\": [\"flower_type\", \"price\", \"description\", \"reason\"]}\\n```\\n\\'\\n'"
      ]
     },
     "execution_count": 10,
     "metadata": {},
     "output_type": "execute_result"
    }
   ],
   "execution_count": 10
  },
  {
   "metadata": {},
   "cell_type": "markdown",
   "source": "",
   "id": "39efe97fb78dcdff"
  },
  {
   "metadata": {
    "ExecuteTime": {
     "end_time": "2024-08-09T06:49:18.086023Z",
     "start_time": "2024-08-09T06:49:14.736095Z"
    }
   },
   "cell_type": "code",
   "source": [
    "# 构建完整对话\n",
    "prompt_template = \"\"\"您是一位专业的鲜花店文案撰写员。\n",
    "对于售价为 {price} 元的 {flower} ，您能提供一个吸引人的简短中文描述吗？\n",
    "{output_format_prompt}\"\"\"\n",
    "\n",
    "prompt = PromptTemplate.from_template(\n",
    "    prompt_template,\n",
    "    partial_variables={\"output_format_prompt\": output_format_prompt})  # 填充输出结构\n",
    "\n",
    "model = OpenAI()\n",
    "# 数据集结构与数据集准备\n",
    "df = pd.DataFrame(columns=[\"flower_type\", \"price\", \"description\", \"reason\"])\n",
    "flowers = [\"玫瑰\", \"百合\", \"康乃馨\"]\n",
    "prices = [\"50\", \"30\", \"20\"]\n",
    "\n",
    "for flower, price in zip(flowers, prices):\n",
    "    prompt_input = prompt.format(flower=flower, price=price)\n",
    "    output = model(prompt_input)\n",
    "    # 解析模型的输出：todo：output输出结构不稳定，导致解析失败报错\n",
    "    parsed_output = output_parser.parse(output)\n",
    "    print(parsed_output)\n",
    "    df.loc[len(df)] = parsed_output.dict()  # 数据放到df中\n",
    "\n",
    "# 打印字典\n",
    "print(\"输出的数据：\", df.to_dict(orient='records'))"
   ],
   "id": "ff7e0e48f6f6fe7e",
   "outputs": [
    {
     "ename": "AttributeError",
     "evalue": "'str' object has no attribute 'to_string'",
     "output_type": "error",
     "traceback": [
      "\u001B[0;31m---------------------------------------------------------------------------\u001B[0m",
      "\u001B[0;31mValidationError\u001B[0m                           Traceback (most recent call last)",
      "File \u001B[0;32m~/miniconda3/envs/langchain-demo/lib/python3.11/site-packages/langchain_core/output_parsers/pydantic.py:26\u001B[0m, in \u001B[0;36mPydanticOutputParser._parse_obj\u001B[0;34m(self, obj)\u001B[0m\n\u001B[1;32m     25\u001B[0m \u001B[38;5;28;01mif\u001B[39;00m \u001B[38;5;28missubclass\u001B[39m(\u001B[38;5;28mself\u001B[39m\u001B[38;5;241m.\u001B[39mpydantic_object, pydantic\u001B[38;5;241m.\u001B[39mBaseModel):\n\u001B[0;32m---> 26\u001B[0m     \u001B[38;5;28;01mreturn\u001B[39;00m \u001B[38;5;28mself\u001B[39m\u001B[38;5;241m.\u001B[39mpydantic_object\u001B[38;5;241m.\u001B[39mmodel_validate(obj)\n\u001B[1;32m     27\u001B[0m \u001B[38;5;28;01melif\u001B[39;00m \u001B[38;5;28missubclass\u001B[39m(\u001B[38;5;28mself\u001B[39m\u001B[38;5;241m.\u001B[39mpydantic_object, pydantic\u001B[38;5;241m.\u001B[39mv1\u001B[38;5;241m.\u001B[39mBaseModel):\n",
      "File \u001B[0;32m~/miniconda3/envs/langchain-demo/lib/python3.11/site-packages/pydantic/main.py:503\u001B[0m, in \u001B[0;36mBaseModel.model_validate\u001B[0;34m(cls, obj, strict, from_attributes, context)\u001B[0m\n\u001B[1;32m    502\u001B[0m __tracebackhide__ \u001B[38;5;241m=\u001B[39m \u001B[38;5;28;01mTrue\u001B[39;00m\n\u001B[0;32m--> 503\u001B[0m \u001B[38;5;28;01mreturn\u001B[39;00m \u001B[38;5;28mcls\u001B[39m\u001B[38;5;241m.\u001B[39m__pydantic_validator__\u001B[38;5;241m.\u001B[39mvalidate_python(\n\u001B[1;32m    504\u001B[0m     obj, strict\u001B[38;5;241m=\u001B[39mstrict, from_attributes\u001B[38;5;241m=\u001B[39mfrom_attributes, context\u001B[38;5;241m=\u001B[39mcontext\n\u001B[1;32m    505\u001B[0m )\n",
      "\u001B[0;31mValidationError\u001B[0m: 4 validation errors for FlowerDescription\nflower_type\n  Field required [type=missing, input_value={'properties': {'flower_t...description', 'reason']}, input_type=dict]\n    For further information visit https://errors.pydantic.dev/2.5/v/missing\nprice\n  Field required [type=missing, input_value={'properties': {'flower_t...description', 'reason']}, input_type=dict]\n    For further information visit https://errors.pydantic.dev/2.5/v/missing\ndescription\n  Field required [type=missing, input_value={'properties': {'flower_t...description', 'reason']}, input_type=dict]\n    For further information visit https://errors.pydantic.dev/2.5/v/missing\nreason\n  Field required [type=missing, input_value={'properties': {'flower_t...description', 'reason']}, input_type=dict]\n    For further information visit https://errors.pydantic.dev/2.5/v/missing",
      "\nDuring handling of the above exception, another exception occurred:\n",
      "\u001B[0;31mOutputParserException\u001B[0m                     Traceback (most recent call last)",
      "File \u001B[0;32m~/miniconda3/envs/langchain-demo/lib/python3.11/site-packages/langchain/output_parsers/retry.py:225\u001B[0m, in \u001B[0;36mRetryWithErrorOutputParser.parse_with_prompt\u001B[0;34m(self, completion, prompt_value)\u001B[0m\n\u001B[1;32m    224\u001B[0m \u001B[38;5;28;01mtry\u001B[39;00m:\n\u001B[0;32m--> 225\u001B[0m     \u001B[38;5;28;01mreturn\u001B[39;00m \u001B[38;5;28mself\u001B[39m\u001B[38;5;241m.\u001B[39mparser\u001B[38;5;241m.\u001B[39mparse(completion)\n\u001B[1;32m    226\u001B[0m \u001B[38;5;28;01mexcept\u001B[39;00m OutputParserException \u001B[38;5;28;01mas\u001B[39;00m e:\n",
      "File \u001B[0;32m~/miniconda3/envs/langchain-demo/lib/python3.11/site-packages/langchain_core/output_parsers/pydantic.py:77\u001B[0m, in \u001B[0;36mPydanticOutputParser.parse\u001B[0;34m(self, text)\u001B[0m\n\u001B[1;32m     69\u001B[0m \u001B[38;5;250m\u001B[39m\u001B[38;5;124;03m\"\"\"Parse the output of an LLM call to a pydantic object.\u001B[39;00m\n\u001B[1;32m     70\u001B[0m \n\u001B[1;32m     71\u001B[0m \u001B[38;5;124;03mArgs:\u001B[39;00m\n\u001B[0;32m   (...)\u001B[0m\n\u001B[1;32m     75\u001B[0m \u001B[38;5;124;03m    The parsed pydantic object.\u001B[39;00m\n\u001B[1;32m     76\u001B[0m \u001B[38;5;124;03m\"\"\"\u001B[39;00m\n\u001B[0;32m---> 77\u001B[0m \u001B[38;5;28;01mreturn\u001B[39;00m \u001B[38;5;28msuper\u001B[39m()\u001B[38;5;241m.\u001B[39mparse(text)\n",
      "File \u001B[0;32m~/miniconda3/envs/langchain-demo/lib/python3.11/site-packages/langchain_core/output_parsers/json.py:98\u001B[0m, in \u001B[0;36mJsonOutputParser.parse\u001B[0;34m(self, text)\u001B[0m\n\u001B[1;32m     90\u001B[0m \u001B[38;5;250m\u001B[39m\u001B[38;5;124;03m\"\"\"Parse the output of an LLM call to a JSON object.\u001B[39;00m\n\u001B[1;32m     91\u001B[0m \n\u001B[1;32m     92\u001B[0m \u001B[38;5;124;03mArgs:\u001B[39;00m\n\u001B[0;32m   (...)\u001B[0m\n\u001B[1;32m     96\u001B[0m \u001B[38;5;124;03m    The parsed JSON object.\u001B[39;00m\n\u001B[1;32m     97\u001B[0m \u001B[38;5;124;03m\"\"\"\u001B[39;00m\n\u001B[0;32m---> 98\u001B[0m \u001B[38;5;28;01mreturn\u001B[39;00m \u001B[38;5;28mself\u001B[39m\u001B[38;5;241m.\u001B[39mparse_result([Generation(text\u001B[38;5;241m=\u001B[39mtext)])\n",
      "File \u001B[0;32m~/miniconda3/envs/langchain-demo/lib/python3.11/site-packages/langchain_core/output_parsers/pydantic.py:66\u001B[0m, in \u001B[0;36mPydanticOutputParser.parse_result\u001B[0;34m(self, result, partial)\u001B[0m\n\u001B[1;32m     65\u001B[0m json_object \u001B[38;5;241m=\u001B[39m \u001B[38;5;28msuper\u001B[39m()\u001B[38;5;241m.\u001B[39mparse_result(result)\n\u001B[0;32m---> 66\u001B[0m \u001B[38;5;28;01mreturn\u001B[39;00m \u001B[38;5;28mself\u001B[39m\u001B[38;5;241m.\u001B[39m_parse_obj(json_object)\n",
      "File \u001B[0;32m~/miniconda3/envs/langchain-demo/lib/python3.11/site-packages/langchain_core/output_parsers/pydantic.py:35\u001B[0m, in \u001B[0;36mPydanticOutputParser._parse_obj\u001B[0;34m(self, obj)\u001B[0m\n\u001B[1;32m     34\u001B[0m     \u001B[38;5;28;01mexcept\u001B[39;00m (pydantic\u001B[38;5;241m.\u001B[39mValidationError, pydantic\u001B[38;5;241m.\u001B[39mv1\u001B[38;5;241m.\u001B[39mValidationError) \u001B[38;5;28;01mas\u001B[39;00m e:\n\u001B[0;32m---> 35\u001B[0m         \u001B[38;5;28;01mraise\u001B[39;00m \u001B[38;5;28mself\u001B[39m\u001B[38;5;241m.\u001B[39m_parser_exception(e, obj)\n\u001B[1;32m     36\u001B[0m \u001B[38;5;28;01melse\u001B[39;00m:  \u001B[38;5;66;03m# pydantic v1\u001B[39;00m\n",
      "\u001B[0;31mOutputParserException\u001B[0m: Failed to parse FlowerDescription from completion {\"properties\": {\"flower_type\": {\"description\": \"\\u9c9c\\u82b1\\u7684\\u79cd\\u7c7b\", \"title\": \"Flower Type\", \"type\": \"string\"}, \"price\": {\"description\": \"\\u9c9c\\u82b1\\u7684\\u4ef7\\u683c\", \"title\": \"Price\", \"type\": \"string\", \"minLength\": 1, \"maxLength\": 10}, \"description\": {\"description\": \"\\u9c9c\\u82b1\\u7684\\u63cf\\u8ff0\\u6587\\u6848\", \"title\": \"Description\", \"type\": \"string\", \"minLength\": 1, \"maxLength\": 50}, \"reason\": {\"description\": \"\\u4e3a\\u4ec0\\u4e48\\u8981\\u8fd9\\u6837\\u5199\\u8fd9\\u4e2a\\u6587\\u6848\", \"title\": \"Reason\", \"type\": \"string\", \"minLength\": 1, \"maxLength\": 50}}, \"required\": [\"flower_type\", \"price\", \"description\", \"reason\"]}. Got: 4 validation errors for FlowerDescription\nflower_type\n  Field required [type=missing, input_value={'properties': {'flower_t...description', 'reason']}, input_type=dict]\n    For further information visit https://errors.pydantic.dev/2.5/v/missing\nprice\n  Field required [type=missing, input_value={'properties': {'flower_t...description', 'reason']}, input_type=dict]\n    For further information visit https://errors.pydantic.dev/2.5/v/missing\ndescription\n  Field required [type=missing, input_value={'properties': {'flower_t...description', 'reason']}, input_type=dict]\n    For further information visit https://errors.pydantic.dev/2.5/v/missing\nreason\n  Field required [type=missing, input_value={'properties': {'flower_t...description', 'reason']}, input_type=dict]\n    For further information visit https://errors.pydantic.dev/2.5/v/missing",
      "\nDuring handling of the above exception, another exception occurred:\n",
      "\u001B[0;31mAttributeError\u001B[0m                            Traceback (most recent call last)",
      "Cell \u001B[0;32mIn[13], line 30\u001B[0m\n\u001B[1;32m     27\u001B[0m     prompt_input \u001B[38;5;241m=\u001B[39m prompt\u001B[38;5;241m.\u001B[39mformat(flower\u001B[38;5;241m=\u001B[39mflower, price\u001B[38;5;241m=\u001B[39mprice)\n\u001B[1;32m     28\u001B[0m     output \u001B[38;5;241m=\u001B[39m model(prompt_input)\n\u001B[0;32m---> 30\u001B[0m     parse_result \u001B[38;5;241m=\u001B[39m retry_parser\u001B[38;5;241m.\u001B[39mparse_with_prompt(output, prompt_input)\n\u001B[1;32m     31\u001B[0m     \u001B[38;5;28mprint\u001B[39m(parse_result)\n\u001B[1;32m     32\u001B[0m     \u001B[38;5;66;03m# 解析模型的输出：todo：output输出结构不稳定，导致解析失败报错\u001B[39;00m\n\u001B[1;32m     33\u001B[0m     \u001B[38;5;66;03m# parsed_output = output_parser.parse(output)\u001B[39;00m\n\u001B[1;32m     34\u001B[0m     \u001B[38;5;66;03m# print(parsed_output)\u001B[39;00m\n\u001B[1;32m     35\u001B[0m     \u001B[38;5;66;03m# df.loc[len(df)] = parsed_output.dict()  # 数据放到df中\u001B[39;00m\n\u001B[1;32m     36\u001B[0m \n\u001B[1;32m     37\u001B[0m \u001B[38;5;66;03m# 打印字典\u001B[39;00m\n",
      "File \u001B[0;32m~/miniconda3/envs/langchain-demo/lib/python3.11/site-packages/langchain/output_parsers/retry.py:241\u001B[0m, in \u001B[0;36mRetryWithErrorOutputParser.parse_with_prompt\u001B[0;34m(self, completion, prompt_value)\u001B[0m\n\u001B[1;32m    232\u001B[0m                 completion \u001B[38;5;241m=\u001B[39m \u001B[38;5;28mself\u001B[39m\u001B[38;5;241m.\u001B[39mretry_chain\u001B[38;5;241m.\u001B[39mrun(\n\u001B[1;32m    233\u001B[0m                     prompt\u001B[38;5;241m=\u001B[39mprompt_value\u001B[38;5;241m.\u001B[39mto_string(),\n\u001B[1;32m    234\u001B[0m                     completion\u001B[38;5;241m=\u001B[39mcompletion,\n\u001B[1;32m    235\u001B[0m                     error\u001B[38;5;241m=\u001B[39m\u001B[38;5;28mrepr\u001B[39m(e),\n\u001B[1;32m    236\u001B[0m                 )\n\u001B[1;32m    237\u001B[0m             \u001B[38;5;28;01melse\u001B[39;00m:\n\u001B[1;32m    238\u001B[0m                 completion \u001B[38;5;241m=\u001B[39m \u001B[38;5;28mself\u001B[39m\u001B[38;5;241m.\u001B[39mretry_chain\u001B[38;5;241m.\u001B[39minvoke(\n\u001B[1;32m    239\u001B[0m                     \u001B[38;5;28mdict\u001B[39m(\n\u001B[1;32m    240\u001B[0m                         completion\u001B[38;5;241m=\u001B[39mcompletion,\n\u001B[0;32m--> 241\u001B[0m                         prompt\u001B[38;5;241m=\u001B[39mprompt_value\u001B[38;5;241m.\u001B[39mto_string(),\n\u001B[1;32m    242\u001B[0m                         error\u001B[38;5;241m=\u001B[39m\u001B[38;5;28mrepr\u001B[39m(e),\n\u001B[1;32m    243\u001B[0m                     )\n\u001B[1;32m    244\u001B[0m                 )\n\u001B[1;32m    246\u001B[0m \u001B[38;5;28;01mraise\u001B[39;00m OutputParserException(\u001B[38;5;124m\"\u001B[39m\u001B[38;5;124mFailed to parse\u001B[39m\u001B[38;5;124m\"\u001B[39m)\n",
      "\u001B[0;31mAttributeError\u001B[0m: 'str' object has no attribute 'to_string'"
     ]
    }
   ],
   "execution_count": 13
  }
 ],
 "metadata": {
  "kernelspec": {
   "display_name": "langchain-demo",
   "language": "python",
   "name": "langchain-demo"
  },
  "language_info": {
   "codemirror_mode": {
    "name": "ipython",
    "version": 2
   },
   "file_extension": ".py",
   "mimetype": "text/x-python",
   "name": "python",
   "nbconvert_exporter": "python",
   "pygments_lexer": "ipython2",
   "version": "2.7.6"
  }
 },
 "nbformat": 4,
 "nbformat_minor": 5
}
