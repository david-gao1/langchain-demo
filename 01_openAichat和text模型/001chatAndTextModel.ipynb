{
 "cells": [
  {
   "metadata": {},
   "cell_type": "markdown",
   "source": "# 1. openai Text 模型",
   "id": "97040f78752a114b"
  },
  {
   "metadata": {
    "ExecuteTime": {
     "end_time": "2024-08-07T07:32:29.287408Z",
     "start_time": "2024-08-07T07:32:26.758418Z"
    }
   },
   "cell_type": "code",
   "source": [
    "from openai import OpenAI\n",
    "client = OpenAI()\n",
    "\n",
    "response = client.completions.create(\n",
    "  model=\"gpt-3.5-turbo-instruct\",\n",
    "  temperature=0.5,\n",
    "  max_tokens=100,\n",
    "  prompt=\"请给我的花店起个名\")\n",
    "\n",
    "print(response.choices[0].text.strip())"
   ],
   "id": "4fb5460e91799904",
   "outputs": [
    {
     "name": "stdout",
     "output_type": "stream",
     "text": [
      "字\n",
      "\n",
      "\"花语缘\"\n"
     ]
    }
   ],
   "execution_count": 1
  },
  {
   "metadata": {},
   "cell_type": "markdown",
   "source": "# 2. openai chatModel",
   "id": "288563e815b1eb01"
  },
  {
   "metadata": {
    "ExecuteTime": {
     "end_time": "2024-08-07T07:33:02.602416Z",
     "start_time": "2024-08-07T07:33:00.449973Z"
    }
   },
   "cell_type": "code",
   "source": [
    "\n",
    "from openai import OpenAI\n",
    "client = OpenAI()\n",
    "\n",
    "response = client.chat.completions.create(  \n",
    "  model=\"gpt-4\",\n",
    "  messages=[\n",
    "        {\"role\": \"system\", \"content\": \"You are a creative AI.\"},\n",
    "        {\"role\": \"user\", \"content\": \"请给我的花店起个名\"},\n",
    "    ],\n",
    "  temperature=0.8,\n",
    "  max_tokens=60\n",
    ")\n",
    "\n",
    "print(response.choices[0].message.content)"
   ],
   "id": "522f30c253fccd6e",
   "outputs": [
    {
     "name": "stdout",
     "output_type": "stream",
     "text": [
      "\"花之秘境\"\n"
     ]
    }
   ],
   "execution_count": 2
  },
  {
   "metadata": {},
   "cell_type": "markdown",
   "source": "# 2.1 使用langchain使用openai的test模型",
   "id": "bc2240a0323c512e"
  },
  {
   "metadata": {
    "ExecuteTime": {
     "end_time": "2024-08-07T07:34:36.426310Z",
     "start_time": "2024-08-07T07:34:33.970612Z"
    }
   },
   "cell_type": "code",
   "source": [
    "from langchain_openai import OpenAI\n",
    "llm = OpenAI(  \n",
    "    model=\"gpt-3.5-turbo-instruct\",\n",
    "    temperature=0.8,\n",
    "    max_tokens=60,)\n",
    "response = llm.predict(\"请给我的花店起个名\")\n",
    "print(response)"
   ],
   "id": "b2e6431e7b91fbbc",
   "outputs": [
    {
     "name": "stderr",
     "output_type": "stream",
     "text": [
      "/Users/lianggao/miniconda3/envs/langchain-demo/lib/python3.11/site-packages/langchain_core/_api/deprecation.py:139: LangChainDeprecationWarning: The method `BaseLLM.predict` was deprecated in langchain-core 0.1.7 and will be removed in 0.3.0. Use invoke instead.\n",
      "  warn_deprecated(\n"
     ]
    },
    {
     "name": "stdout",
     "output_type": "stream",
     "text": [
      "字\n",
      "\n",
      "\"花香园\"\n"
     ]
    }
   ],
   "execution_count": 3
  },
  {
   "metadata": {},
   "cell_type": "markdown",
   "source": "# 2.2. langchain使用openai的 chat 模型 ",
   "id": "698cb6d35b5037b3"
  },
  {
   "metadata": {
    "ExecuteTime": {
     "end_time": "2024-08-07T07:35:44.322914Z",
     "start_time": "2024-08-07T07:35:42.771628Z"
    }
   },
   "cell_type": "code",
   "source": [
    "from langchain_openai import ChatOpenAI\n",
    "chat = ChatOpenAI(model=\"gpt-4\",\n",
    "                    temperature=0.8,\n",
    "                    max_tokens=60)\n",
    "from langchain.schema import (\n",
    "    HumanMessage,\n",
    "    SystemMessage\n",
    ")\n",
    "messages = [\n",
    "    SystemMessage(content=\"你是一个很棒的智能助手\"),\n",
    "    HumanMessage(content=\"请给我的花店起个名\")\n",
    "]\n",
    "response = chat(messages)\n",
    "print(response)"
   ],
   "id": "caa76a400ff95952",
   "outputs": [
    {
     "name": "stderr",
     "output_type": "stream",
     "text": [
      "/Users/lianggao/miniconda3/envs/langchain-demo/lib/python3.11/site-packages/langchain_core/_api/deprecation.py:139: LangChainDeprecationWarning: The method `BaseChatModel.__call__` was deprecated in langchain-core 0.1.7 and will be removed in 0.3.0. Use invoke instead.\n",
      "  warn_deprecated(\n"
     ]
    },
    {
     "name": "stdout",
     "output_type": "stream",
     "text": [
      "content='\"花语心境\"' response_metadata={'token_usage': {'completion_tokens': 8, 'prompt_tokens': 34, 'total_tokens': 42}, 'model_name': 'gpt-4-0613', 'system_fingerprint': None, 'finish_reason': 'stop', 'logprobs': None} id='run-9f70b244-3336-4b7a-8183-645cb072f957-0' usage_metadata={'input_tokens': 34, 'output_tokens': 8, 'total_tokens': 42}\n"
     ]
    }
   ],
   "execution_count": 4
  },
  {
   "metadata": {},
   "cell_type": "code",
   "outputs": [],
   "execution_count": null,
   "source": "",
   "id": "daa16cae99813140"
  }
 ],
 "metadata": {
  "kernelspec": {
   "display_name": "langchain-demo",
   "language": "python",
   "name": "langchain-demo"
  },
  "language_info": {
   "codemirror_mode": {
    "name": "ipython",
    "version": 2
   },
   "file_extension": ".py",
   "mimetype": "text/x-python",
   "name": "python",
   "nbconvert_exporter": "python",
   "pygments_lexer": "ipython2",
   "version": "2.7.6"
  }
 },
 "nbformat": 4,
 "nbformat_minor": 5
}
