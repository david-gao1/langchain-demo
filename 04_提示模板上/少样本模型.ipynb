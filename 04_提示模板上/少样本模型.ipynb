{
 "cells": [
  {
   "cell_type": "code",
   "id": "initial_id",
   "metadata": {
    "collapsed": true,
    "ExecuteTime": {
     "end_time": "2024-08-07T09:19:26.264177Z",
     "start_time": "2024-08-07T09:19:26.063382Z"
    }
   },
   "source": [
    "# 1. 创建一些示例\n",
    "samples = [\n",
    "\n",
    "    {\n",
    "        \"flower_type\": \"玫瑰\",\n",
    "        \"occasion\": \"爱情\",\n",
    "        \"ad_copy\": \"玫瑰，浪漫的象征，是你向心爱的人表达爱意的最佳选择。\"\n",
    "    },\n",
    "    {\n",
    "        \"flower_type\": \"康乃馨\",\n",
    "        \"occasion\": \"母亲节\",\n",
    "        \"ad_copy\": \"康乃馨代表着母爱的纯洁与伟大，是母亲节赠送给母亲的完美礼物。\"\n",
    "    },\n",
    "    {\n",
    "        \"flower_type\": \"百合\",\n",
    "        \"occasion\": \"庆祝\",\n",
    "        \"ad_copy\": \"百合象征着纯洁与高雅，是你庆祝特殊时刻的理想选择。\"\n",
    "    },\n",
    "    {\n",
    "        \"flower_type\": \"向日葵\",\n",
    "        \"occasion\": \"鼓励\",\n",
    "        \"ad_copy\": \"向日葵象征着坚韧和乐观，是你鼓励亲朋好友的最好方式。\"\n",
    "    }\n",
    "]\n",
    "\n",
    "# 2. 创建一个提示模板\n",
    "from langchain.prompts.prompt import PromptTemplate\n",
    "\n",
    "prompt_sample = PromptTemplate(input_variables=[\"flower_type\", \"occasion\", \"ad_copy\"],\n",
    "                               template=\"鲜花类型: {flower_type}\\n场合: {occasion}\\n文案: {ad_copy}\")\n",
    "print(prompt_sample)\n",
    "\n"
   ],
   "outputs": [
    {
     "name": "stdout",
     "output_type": "stream",
     "text": [
      "鲜花类型: 玫瑰\n",
      "场合: 爱情\n",
      "文案: 玫瑰，浪漫的象征，是你向心爱的人表达爱意的最佳选择。\n"
     ]
    }
   ],
   "execution_count": 1
  },
  {
   "metadata": {},
   "cell_type": "markdown",
   "source": "# 进行少样本学习，然后创建野玫瑰的文案",
   "id": "6fc7fe85e5982e40"
  },
  {
   "metadata": {
    "ExecuteTime": {
     "end_time": "2024-08-07T09:36:32.242773Z",
     "start_time": "2024-08-07T09:36:30.171446Z"
    }
   },
   "cell_type": "code",
   "source": [
    "# 3. 创建一个FewShotPromptTemplate对象\n",
    "from langchain.prompts.few_shot import FewShotPromptTemplate\n",
    "\n",
    "prompt = FewShotPromptTemplate(\n",
    "    examples=samples,\n",
    "    example_prompt=prompt_sample,\n",
    "    suffix=\"鲜花类型: {flower_type}\\n场合: {occasion}\",\n",
    "    input_variables=[\"flower_type\", \"occasion\"]\n",
    ")\n",
    "print('----------------------------')\n",
    "print(prompt.format(flower_type=\"野玫瑰\", occasion=\"爱情\"))\n",
    "print('----------------------------')\n",
    "\n",
    "# 4. 把提示传递给大模型\n",
    "from langchain_openai import OpenAI\n",
    "\n",
    "model = OpenAI()\n",
    "result = model(prompt.format(flower_type=\"野玫瑰\", occasion=\"爱情\"))\n",
    "print(result)"
   ],
   "id": "bc254214fced5d0d",
   "outputs": [
    {
     "name": "stdout",
     "output_type": "stream",
     "text": [
      "----------------------------\n",
      "鲜花类型: 玫瑰\n",
      "场合: 爱情\n",
      "文案: 玫瑰，浪漫的象征，是你向心爱的人表达爱意的最佳选择。\n",
      "\n",
      "鲜花类型: 康乃馨\n",
      "场合: 母亲节\n",
      "文案: 康乃馨代表着母爱的纯洁与伟大，是母亲节赠送给母亲的完美礼物。\n",
      "\n",
      "鲜花类型: 百合\n",
      "场合: 庆祝\n",
      "文案: 百合象征着纯洁与高雅，是你庆祝特殊时刻的理想选择。\n",
      "\n",
      "鲜花类型: 向日葵\n",
      "场合: 鼓励\n",
      "文案: 向日葵象征着坚韧和乐观，是你鼓励亲朋好友的最好方式。\n",
      "\n",
      "鲜花类型: 野玫瑰\n",
      "场合: 爱情\n",
      "----------------------------\n"
     ]
    }
   ],
   "execution_count": 11
  },
  {
   "metadata": {},
   "cell_type": "markdown",
   "source": "如果样本比较多，交给langchain来选择",
   "id": "32d399402df1f1f2"
  },
  {
   "metadata": {
    "ExecuteTime": {
     "end_time": "2024-08-07T10:04:28.803431Z",
     "start_time": "2024-08-07T10:04:27.393177Z"
    }
   },
   "cell_type": "code",
   "source": [
    "# 5. 使用示例选择器\n",
    "from langchain.prompts.example_selector import SemanticSimilarityExampleSelector\n",
    "from langchain.vectorstores import Qdrant\n",
    "from langchain.embeddings import OpenAIEmbeddings\n",
    "\n",
    "# 初始化示例选择器\n",
    "example_selector = SemanticSimilarityExampleSelector.from_examples(\n",
    "    examples=samples,\n",
    "    embeddings=OpenAIEmbeddings(), # 接口暂时没有embedding的调用能力\n",
    "    vectorstore_cls=Qdrant,\n",
    "    k=1\n",
    ")\n",
    "# 创建一个使用示例选择器的FewShotPromptTemplate对象\n",
    "prompt = FewShotPromptTemplate(\n",
    "    example_selector=example_selector,\n",
    "    example_prompt=prompt_sample,\n",
    "    suffix=\"鲜花类型: {flower_type}\\n场合: {occasion}\",\n",
    "    input_variables=[\"flower_type\", \"occasion\"]\n",
    ")\n",
    "print(prompt.format(flower_type=\"红玫瑰\", occasion=\"爱情\"))\n"
   ],
   "id": "37f0149f34725660",
   "outputs": [
    {
     "ename": "ResponseHandlingException",
     "evalue": "[Errno 61] Connection refused",
     "output_type": "error",
     "traceback": [
      "\u001B[0;31m---------------------------------------------------------------------------\u001B[0m",
      "\u001B[0;31mConnectionRefusedError\u001B[0m                    Traceback (most recent call last)",
      "File \u001B[0;32m~/miniconda3/envs/langchain-demo/lib/python3.11/site-packages/httpcore/_exceptions.py:10\u001B[0m, in \u001B[0;36mmap_exceptions\u001B[0;34m(map)\u001B[0m\n\u001B[1;32m      9\u001B[0m \u001B[38;5;28;01mtry\u001B[39;00m:\n\u001B[0;32m---> 10\u001B[0m     \u001B[38;5;28;01myield\u001B[39;00m\n\u001B[1;32m     11\u001B[0m \u001B[38;5;28;01mexcept\u001B[39;00m \u001B[38;5;167;01mException\u001B[39;00m \u001B[38;5;28;01mas\u001B[39;00m exc:  \u001B[38;5;66;03m# noqa: PIE786\u001B[39;00m\n",
      "File \u001B[0;32m~/miniconda3/envs/langchain-demo/lib/python3.11/site-packages/httpcore/_backends/sync.py:206\u001B[0m, in \u001B[0;36mSyncBackend.connect_tcp\u001B[0;34m(self, host, port, timeout, local_address, socket_options)\u001B[0m\n\u001B[1;32m    205\u001B[0m \u001B[38;5;28;01mwith\u001B[39;00m map_exceptions(exc_map):\n\u001B[0;32m--> 206\u001B[0m     sock \u001B[38;5;241m=\u001B[39m socket\u001B[38;5;241m.\u001B[39mcreate_connection(\n\u001B[1;32m    207\u001B[0m         address,\n\u001B[1;32m    208\u001B[0m         timeout,\n\u001B[1;32m    209\u001B[0m         source_address\u001B[38;5;241m=\u001B[39msource_address,\n\u001B[1;32m    210\u001B[0m     )\n\u001B[1;32m    211\u001B[0m     \u001B[38;5;28;01mfor\u001B[39;00m option \u001B[38;5;129;01min\u001B[39;00m socket_options:\n",
      "File \u001B[0;32m~/miniconda3/envs/langchain-demo/lib/python3.11/socket.py:851\u001B[0m, in \u001B[0;36mcreate_connection\u001B[0;34m(address, timeout, source_address, all_errors)\u001B[0m\n\u001B[1;32m    850\u001B[0m \u001B[38;5;28;01mif\u001B[39;00m \u001B[38;5;129;01mnot\u001B[39;00m all_errors:\n\u001B[0;32m--> 851\u001B[0m     \u001B[38;5;28;01mraise\u001B[39;00m exceptions[\u001B[38;5;241m0\u001B[39m]\n\u001B[1;32m    852\u001B[0m \u001B[38;5;28;01mraise\u001B[39;00m ExceptionGroup(\u001B[38;5;124m\"\u001B[39m\u001B[38;5;124mcreate_connection failed\u001B[39m\u001B[38;5;124m\"\u001B[39m, exceptions)\n",
      "File \u001B[0;32m~/miniconda3/envs/langchain-demo/lib/python3.11/socket.py:836\u001B[0m, in \u001B[0;36mcreate_connection\u001B[0;34m(address, timeout, source_address, all_errors)\u001B[0m\n\u001B[1;32m    835\u001B[0m     sock\u001B[38;5;241m.\u001B[39mbind(source_address)\n\u001B[0;32m--> 836\u001B[0m sock\u001B[38;5;241m.\u001B[39mconnect(sa)\n\u001B[1;32m    837\u001B[0m \u001B[38;5;66;03m# Break explicitly a reference cycle\u001B[39;00m\n",
      "\u001B[0;31mConnectionRefusedError\u001B[0m: [Errno 61] Connection refused",
      "\nThe above exception was the direct cause of the following exception:\n",
      "\u001B[0;31mConnectError\u001B[0m                              Traceback (most recent call last)",
      "File \u001B[0;32m~/miniconda3/envs/langchain-demo/lib/python3.11/site-packages/httpx/_transports/default.py:67\u001B[0m, in \u001B[0;36mmap_httpcore_exceptions\u001B[0;34m()\u001B[0m\n\u001B[1;32m     66\u001B[0m \u001B[38;5;28;01mtry\u001B[39;00m:\n\u001B[0;32m---> 67\u001B[0m     \u001B[38;5;28;01myield\u001B[39;00m\n\u001B[1;32m     68\u001B[0m \u001B[38;5;28;01mexcept\u001B[39;00m \u001B[38;5;167;01mException\u001B[39;00m \u001B[38;5;28;01mas\u001B[39;00m exc:\n",
      "File \u001B[0;32m~/miniconda3/envs/langchain-demo/lib/python3.11/site-packages/httpx/_transports/default.py:231\u001B[0m, in \u001B[0;36mHTTPTransport.handle_request\u001B[0;34m(self, request)\u001B[0m\n\u001B[1;32m    230\u001B[0m \u001B[38;5;28;01mwith\u001B[39;00m map_httpcore_exceptions():\n\u001B[0;32m--> 231\u001B[0m     resp \u001B[38;5;241m=\u001B[39m \u001B[38;5;28mself\u001B[39m\u001B[38;5;241m.\u001B[39m_pool\u001B[38;5;241m.\u001B[39mhandle_request(req)\n\u001B[1;32m    233\u001B[0m \u001B[38;5;28;01massert\u001B[39;00m \u001B[38;5;28misinstance\u001B[39m(resp\u001B[38;5;241m.\u001B[39mstream, typing\u001B[38;5;241m.\u001B[39mIterable)\n",
      "File \u001B[0;32m~/miniconda3/envs/langchain-demo/lib/python3.11/site-packages/httpcore/_sync/connection_pool.py:268\u001B[0m, in \u001B[0;36mConnectionPool.handle_request\u001B[0;34m(self, request)\u001B[0m\n\u001B[1;32m    267\u001B[0m         \u001B[38;5;28mself\u001B[39m\u001B[38;5;241m.\u001B[39mresponse_closed(status)\n\u001B[0;32m--> 268\u001B[0m     \u001B[38;5;28;01mraise\u001B[39;00m exc\n\u001B[1;32m    269\u001B[0m \u001B[38;5;28;01melse\u001B[39;00m:\n",
      "File \u001B[0;32m~/miniconda3/envs/langchain-demo/lib/python3.11/site-packages/httpcore/_sync/connection_pool.py:251\u001B[0m, in \u001B[0;36mConnectionPool.handle_request\u001B[0;34m(self, request)\u001B[0m\n\u001B[1;32m    250\u001B[0m \u001B[38;5;28;01mtry\u001B[39;00m:\n\u001B[0;32m--> 251\u001B[0m     response \u001B[38;5;241m=\u001B[39m connection\u001B[38;5;241m.\u001B[39mhandle_request(request)\n\u001B[1;32m    252\u001B[0m \u001B[38;5;28;01mexcept\u001B[39;00m ConnectionNotAvailable:\n\u001B[1;32m    253\u001B[0m     \u001B[38;5;66;03m# The ConnectionNotAvailable exception is a special case, that\u001B[39;00m\n\u001B[1;32m    254\u001B[0m     \u001B[38;5;66;03m# indicates we need to retry the request on a new connection.\u001B[39;00m\n\u001B[0;32m   (...)\u001B[0m\n\u001B[1;32m    258\u001B[0m     \u001B[38;5;66;03m# might end up as an HTTP/2 connection, but which actually ends\u001B[39;00m\n\u001B[1;32m    259\u001B[0m     \u001B[38;5;66;03m# up as HTTP/1.1.\u001B[39;00m\n",
      "File \u001B[0;32m~/miniconda3/envs/langchain-demo/lib/python3.11/site-packages/httpcore/_sync/connection.py:99\u001B[0m, in \u001B[0;36mHTTPConnection.handle_request\u001B[0;34m(self, request)\u001B[0m\n\u001B[1;32m     98\u001B[0m         \u001B[38;5;28mself\u001B[39m\u001B[38;5;241m.\u001B[39m_connect_failed \u001B[38;5;241m=\u001B[39m \u001B[38;5;28;01mTrue\u001B[39;00m\n\u001B[0;32m---> 99\u001B[0m         \u001B[38;5;28;01mraise\u001B[39;00m exc\n\u001B[1;32m    100\u001B[0m \u001B[38;5;28;01melif\u001B[39;00m \u001B[38;5;129;01mnot\u001B[39;00m \u001B[38;5;28mself\u001B[39m\u001B[38;5;241m.\u001B[39m_connection\u001B[38;5;241m.\u001B[39mis_available():\n",
      "File \u001B[0;32m~/miniconda3/envs/langchain-demo/lib/python3.11/site-packages/httpcore/_sync/connection.py:76\u001B[0m, in \u001B[0;36mHTTPConnection.handle_request\u001B[0;34m(self, request)\u001B[0m\n\u001B[1;32m     75\u001B[0m \u001B[38;5;28;01mtry\u001B[39;00m:\n\u001B[0;32m---> 76\u001B[0m     stream \u001B[38;5;241m=\u001B[39m \u001B[38;5;28mself\u001B[39m\u001B[38;5;241m.\u001B[39m_connect(request)\n\u001B[1;32m     78\u001B[0m     ssl_object \u001B[38;5;241m=\u001B[39m stream\u001B[38;5;241m.\u001B[39mget_extra_info(\u001B[38;5;124m\"\u001B[39m\u001B[38;5;124mssl_object\u001B[39m\u001B[38;5;124m\"\u001B[39m)\n",
      "File \u001B[0;32m~/miniconda3/envs/langchain-demo/lib/python3.11/site-packages/httpcore/_sync/connection.py:124\u001B[0m, in \u001B[0;36mHTTPConnection._connect\u001B[0;34m(self, request)\u001B[0m\n\u001B[1;32m    123\u001B[0m \u001B[38;5;28;01mwith\u001B[39;00m Trace(\u001B[38;5;124m\"\u001B[39m\u001B[38;5;124mconnect_tcp\u001B[39m\u001B[38;5;124m\"\u001B[39m, logger, request, kwargs) \u001B[38;5;28;01mas\u001B[39;00m trace:\n\u001B[0;32m--> 124\u001B[0m     stream \u001B[38;5;241m=\u001B[39m \u001B[38;5;28mself\u001B[39m\u001B[38;5;241m.\u001B[39m_network_backend\u001B[38;5;241m.\u001B[39mconnect_tcp(\u001B[38;5;241m*\u001B[39m\u001B[38;5;241m*\u001B[39mkwargs)\n\u001B[1;32m    125\u001B[0m     trace\u001B[38;5;241m.\u001B[39mreturn_value \u001B[38;5;241m=\u001B[39m stream\n",
      "File \u001B[0;32m~/miniconda3/envs/langchain-demo/lib/python3.11/site-packages/httpcore/_backends/sync.py:205\u001B[0m, in \u001B[0;36mSyncBackend.connect_tcp\u001B[0;34m(self, host, port, timeout, local_address, socket_options)\u001B[0m\n\u001B[1;32m    200\u001B[0m exc_map: ExceptionMapping \u001B[38;5;241m=\u001B[39m {\n\u001B[1;32m    201\u001B[0m     socket\u001B[38;5;241m.\u001B[39mtimeout: ConnectTimeout,\n\u001B[1;32m    202\u001B[0m     \u001B[38;5;167;01mOSError\u001B[39;00m: ConnectError,\n\u001B[1;32m    203\u001B[0m }\n\u001B[0;32m--> 205\u001B[0m \u001B[38;5;28;01mwith\u001B[39;00m map_exceptions(exc_map):\n\u001B[1;32m    206\u001B[0m     sock \u001B[38;5;241m=\u001B[39m socket\u001B[38;5;241m.\u001B[39mcreate_connection(\n\u001B[1;32m    207\u001B[0m         address,\n\u001B[1;32m    208\u001B[0m         timeout,\n\u001B[1;32m    209\u001B[0m         source_address\u001B[38;5;241m=\u001B[39msource_address,\n\u001B[1;32m    210\u001B[0m     )\n",
      "File \u001B[0;32m~/miniconda3/envs/langchain-demo/lib/python3.11/contextlib.py:158\u001B[0m, in \u001B[0;36m_GeneratorContextManager.__exit__\u001B[0;34m(self, typ, value, traceback)\u001B[0m\n\u001B[1;32m    157\u001B[0m \u001B[38;5;28;01mtry\u001B[39;00m:\n\u001B[0;32m--> 158\u001B[0m     \u001B[38;5;28mself\u001B[39m\u001B[38;5;241m.\u001B[39mgen\u001B[38;5;241m.\u001B[39mthrow(typ, value, traceback)\n\u001B[1;32m    159\u001B[0m \u001B[38;5;28;01mexcept\u001B[39;00m \u001B[38;5;167;01mStopIteration\u001B[39;00m \u001B[38;5;28;01mas\u001B[39;00m exc:\n\u001B[1;32m    160\u001B[0m     \u001B[38;5;66;03m# Suppress StopIteration *unless* it's the same exception that\u001B[39;00m\n\u001B[1;32m    161\u001B[0m     \u001B[38;5;66;03m# was passed to throw().  This prevents a StopIteration\u001B[39;00m\n\u001B[1;32m    162\u001B[0m     \u001B[38;5;66;03m# raised inside the \"with\" statement from being suppressed.\u001B[39;00m\n",
      "File \u001B[0;32m~/miniconda3/envs/langchain-demo/lib/python3.11/site-packages/httpcore/_exceptions.py:14\u001B[0m, in \u001B[0;36mmap_exceptions\u001B[0;34m(map)\u001B[0m\n\u001B[1;32m     13\u001B[0m     \u001B[38;5;28;01mif\u001B[39;00m \u001B[38;5;28misinstance\u001B[39m(exc, from_exc):\n\u001B[0;32m---> 14\u001B[0m         \u001B[38;5;28;01mraise\u001B[39;00m to_exc(exc) \u001B[38;5;28;01mfrom\u001B[39;00m \u001B[38;5;21;01mexc\u001B[39;00m\n\u001B[1;32m     15\u001B[0m \u001B[38;5;28;01mraise\u001B[39;00m\n",
      "\u001B[0;31mConnectError\u001B[0m: [Errno 61] Connection refused",
      "\nThe above exception was the direct cause of the following exception:\n",
      "\u001B[0;31mConnectError\u001B[0m                              Traceback (most recent call last)",
      "File \u001B[0;32m~/miniconda3/envs/langchain-demo/lib/python3.11/site-packages/qdrant_client/http/api_client.py:106\u001B[0m, in \u001B[0;36mApiClient.send_inner\u001B[0;34m(self, request)\u001B[0m\n\u001B[1;32m    105\u001B[0m \u001B[38;5;28;01mtry\u001B[39;00m:\n\u001B[0;32m--> 106\u001B[0m     response \u001B[38;5;241m=\u001B[39m \u001B[38;5;28mself\u001B[39m\u001B[38;5;241m.\u001B[39m_client\u001B[38;5;241m.\u001B[39msend(request)\n\u001B[1;32m    107\u001B[0m \u001B[38;5;28;01mexcept\u001B[39;00m \u001B[38;5;167;01mException\u001B[39;00m \u001B[38;5;28;01mas\u001B[39;00m e:\n",
      "File \u001B[0;32m~/miniconda3/envs/langchain-demo/lib/python3.11/site-packages/httpx/_client.py:915\u001B[0m, in \u001B[0;36mClient.send\u001B[0;34m(self, request, stream, auth, follow_redirects)\u001B[0m\n\u001B[1;32m    913\u001B[0m auth \u001B[38;5;241m=\u001B[39m \u001B[38;5;28mself\u001B[39m\u001B[38;5;241m.\u001B[39m_build_request_auth(request, auth)\n\u001B[0;32m--> 915\u001B[0m response \u001B[38;5;241m=\u001B[39m \u001B[38;5;28mself\u001B[39m\u001B[38;5;241m.\u001B[39m_send_handling_auth(\n\u001B[1;32m    916\u001B[0m     request,\n\u001B[1;32m    917\u001B[0m     auth\u001B[38;5;241m=\u001B[39mauth,\n\u001B[1;32m    918\u001B[0m     follow_redirects\u001B[38;5;241m=\u001B[39mfollow_redirects,\n\u001B[1;32m    919\u001B[0m     history\u001B[38;5;241m=\u001B[39m[],\n\u001B[1;32m    920\u001B[0m )\n\u001B[1;32m    921\u001B[0m \u001B[38;5;28;01mtry\u001B[39;00m:\n",
      "File \u001B[0;32m~/miniconda3/envs/langchain-demo/lib/python3.11/site-packages/httpx/_client.py:943\u001B[0m, in \u001B[0;36mClient._send_handling_auth\u001B[0;34m(self, request, auth, follow_redirects, history)\u001B[0m\n\u001B[1;32m    942\u001B[0m \u001B[38;5;28;01mwhile\u001B[39;00m \u001B[38;5;28;01mTrue\u001B[39;00m:\n\u001B[0;32m--> 943\u001B[0m     response \u001B[38;5;241m=\u001B[39m \u001B[38;5;28mself\u001B[39m\u001B[38;5;241m.\u001B[39m_send_handling_redirects(\n\u001B[1;32m    944\u001B[0m         request,\n\u001B[1;32m    945\u001B[0m         follow_redirects\u001B[38;5;241m=\u001B[39mfollow_redirects,\n\u001B[1;32m    946\u001B[0m         history\u001B[38;5;241m=\u001B[39mhistory,\n\u001B[1;32m    947\u001B[0m     )\n\u001B[1;32m    948\u001B[0m     \u001B[38;5;28;01mtry\u001B[39;00m:\n",
      "File \u001B[0;32m~/miniconda3/envs/langchain-demo/lib/python3.11/site-packages/httpx/_client.py:980\u001B[0m, in \u001B[0;36mClient._send_handling_redirects\u001B[0;34m(self, request, follow_redirects, history)\u001B[0m\n\u001B[1;32m    978\u001B[0m     hook(request)\n\u001B[0;32m--> 980\u001B[0m response \u001B[38;5;241m=\u001B[39m \u001B[38;5;28mself\u001B[39m\u001B[38;5;241m.\u001B[39m_send_single_request(request)\n\u001B[1;32m    981\u001B[0m \u001B[38;5;28;01mtry\u001B[39;00m:\n",
      "File \u001B[0;32m~/miniconda3/envs/langchain-demo/lib/python3.11/site-packages/httpx/_client.py:1016\u001B[0m, in \u001B[0;36mClient._send_single_request\u001B[0;34m(self, request)\u001B[0m\n\u001B[1;32m   1015\u001B[0m \u001B[38;5;28;01mwith\u001B[39;00m request_context(request\u001B[38;5;241m=\u001B[39mrequest):\n\u001B[0;32m-> 1016\u001B[0m     response \u001B[38;5;241m=\u001B[39m transport\u001B[38;5;241m.\u001B[39mhandle_request(request)\n\u001B[1;32m   1018\u001B[0m \u001B[38;5;28;01massert\u001B[39;00m \u001B[38;5;28misinstance\u001B[39m(response\u001B[38;5;241m.\u001B[39mstream, SyncByteStream)\n",
      "File \u001B[0;32m~/miniconda3/envs/langchain-demo/lib/python3.11/site-packages/httpx/_transports/default.py:230\u001B[0m, in \u001B[0;36mHTTPTransport.handle_request\u001B[0;34m(self, request)\u001B[0m\n\u001B[1;32m    218\u001B[0m req \u001B[38;5;241m=\u001B[39m httpcore\u001B[38;5;241m.\u001B[39mRequest(\n\u001B[1;32m    219\u001B[0m     method\u001B[38;5;241m=\u001B[39mrequest\u001B[38;5;241m.\u001B[39mmethod,\n\u001B[1;32m    220\u001B[0m     url\u001B[38;5;241m=\u001B[39mhttpcore\u001B[38;5;241m.\u001B[39mURL(\n\u001B[0;32m   (...)\u001B[0m\n\u001B[1;32m    228\u001B[0m     extensions\u001B[38;5;241m=\u001B[39mrequest\u001B[38;5;241m.\u001B[39mextensions,\n\u001B[1;32m    229\u001B[0m )\n\u001B[0;32m--> 230\u001B[0m \u001B[38;5;28;01mwith\u001B[39;00m map_httpcore_exceptions():\n\u001B[1;32m    231\u001B[0m     resp \u001B[38;5;241m=\u001B[39m \u001B[38;5;28mself\u001B[39m\u001B[38;5;241m.\u001B[39m_pool\u001B[38;5;241m.\u001B[39mhandle_request(req)\n",
      "File \u001B[0;32m~/miniconda3/envs/langchain-demo/lib/python3.11/contextlib.py:158\u001B[0m, in \u001B[0;36m_GeneratorContextManager.__exit__\u001B[0;34m(self, typ, value, traceback)\u001B[0m\n\u001B[1;32m    157\u001B[0m \u001B[38;5;28;01mtry\u001B[39;00m:\n\u001B[0;32m--> 158\u001B[0m     \u001B[38;5;28mself\u001B[39m\u001B[38;5;241m.\u001B[39mgen\u001B[38;5;241m.\u001B[39mthrow(typ, value, traceback)\n\u001B[1;32m    159\u001B[0m \u001B[38;5;28;01mexcept\u001B[39;00m \u001B[38;5;167;01mStopIteration\u001B[39;00m \u001B[38;5;28;01mas\u001B[39;00m exc:\n\u001B[1;32m    160\u001B[0m     \u001B[38;5;66;03m# Suppress StopIteration *unless* it's the same exception that\u001B[39;00m\n\u001B[1;32m    161\u001B[0m     \u001B[38;5;66;03m# was passed to throw().  This prevents a StopIteration\u001B[39;00m\n\u001B[1;32m    162\u001B[0m     \u001B[38;5;66;03m# raised inside the \"with\" statement from being suppressed.\u001B[39;00m\n",
      "File \u001B[0;32m~/miniconda3/envs/langchain-demo/lib/python3.11/site-packages/httpx/_transports/default.py:84\u001B[0m, in \u001B[0;36mmap_httpcore_exceptions\u001B[0;34m()\u001B[0m\n\u001B[1;32m     83\u001B[0m message \u001B[38;5;241m=\u001B[39m \u001B[38;5;28mstr\u001B[39m(exc)\n\u001B[0;32m---> 84\u001B[0m \u001B[38;5;28;01mraise\u001B[39;00m mapped_exc(message) \u001B[38;5;28;01mfrom\u001B[39;00m \u001B[38;5;21;01mexc\u001B[39;00m\n",
      "\u001B[0;31mConnectError\u001B[0m: [Errno 61] Connection refused",
      "\nDuring handling of the above exception, another exception occurred:\n",
      "\u001B[0;31mResponseHandlingException\u001B[0m                 Traceback (most recent call last)",
      "Cell \u001B[0;32mIn[21], line 7\u001B[0m\n\u001B[1;32m      4\u001B[0m \u001B[38;5;28;01mfrom\u001B[39;00m \u001B[38;5;21;01mlangchain\u001B[39;00m\u001B[38;5;21;01m.\u001B[39;00m\u001B[38;5;21;01membeddings\u001B[39;00m \u001B[38;5;28;01mimport\u001B[39;00m OpenAIEmbeddings\n\u001B[1;32m      6\u001B[0m \u001B[38;5;66;03m# 初始化示例选择器\u001B[39;00m\n\u001B[0;32m----> 7\u001B[0m example_selector \u001B[38;5;241m=\u001B[39m SemanticSimilarityExampleSelector\u001B[38;5;241m.\u001B[39mfrom_examples(\n\u001B[1;32m      8\u001B[0m     examples\u001B[38;5;241m=\u001B[39msamples,\n\u001B[1;32m      9\u001B[0m     embeddings\u001B[38;5;241m=\u001B[39mOpenAIEmbeddings(),\n\u001B[1;32m     10\u001B[0m     vectorstore_cls\u001B[38;5;241m=\u001B[39mQdrant,\n\u001B[1;32m     11\u001B[0m     k\u001B[38;5;241m=\u001B[39m\u001B[38;5;241m1\u001B[39m\n\u001B[1;32m     12\u001B[0m )\n\u001B[1;32m     13\u001B[0m \u001B[38;5;66;03m# 创建一个使用示例选择器的FewShotPromptTemplate对象\u001B[39;00m\n\u001B[1;32m     14\u001B[0m prompt \u001B[38;5;241m=\u001B[39m FewShotPromptTemplate(\n\u001B[1;32m     15\u001B[0m     example_selector\u001B[38;5;241m=\u001B[39mexample_selector,\n\u001B[1;32m     16\u001B[0m     example_prompt\u001B[38;5;241m=\u001B[39mprompt_sample,\n\u001B[1;32m     17\u001B[0m     suffix\u001B[38;5;241m=\u001B[39m\u001B[38;5;124m\"\u001B[39m\u001B[38;5;124m鲜花类型: \u001B[39m\u001B[38;5;132;01m{flower_type}\u001B[39;00m\u001B[38;5;130;01m\\n\u001B[39;00m\u001B[38;5;124m场合: \u001B[39m\u001B[38;5;132;01m{occasion}\u001B[39;00m\u001B[38;5;124m\"\u001B[39m,\n\u001B[1;32m     18\u001B[0m     input_variables\u001B[38;5;241m=\u001B[39m[\u001B[38;5;124m\"\u001B[39m\u001B[38;5;124mflower_type\u001B[39m\u001B[38;5;124m\"\u001B[39m, \u001B[38;5;124m\"\u001B[39m\u001B[38;5;124moccasion\u001B[39m\u001B[38;5;124m\"\u001B[39m]\n\u001B[1;32m     19\u001B[0m )\n",
      "File \u001B[0;32m~/miniconda3/envs/langchain-demo/lib/python3.11/site-packages/langchain_core/example_selectors/semantic_similarity.py:172\u001B[0m, in \u001B[0;36mSemanticSimilarityExampleSelector.from_examples\u001B[0;34m(cls, examples, embeddings, vectorstore_cls, k, input_keys, example_keys, vectorstore_kwargs, **vectorstore_cls_kwargs)\u001B[0m\n\u001B[1;32m    152\u001B[0m \u001B[38;5;250m\u001B[39m\u001B[38;5;124;03m\"\"\"Create k-shot example selector using example list and embeddings.\u001B[39;00m\n\u001B[1;32m    153\u001B[0m \n\u001B[1;32m    154\u001B[0m \u001B[38;5;124;03mReshuffles examples dynamically based on query similarity.\u001B[39;00m\n\u001B[0;32m   (...)\u001B[0m\n\u001B[1;32m    169\u001B[0m \u001B[38;5;124;03m    The ExampleSelector instantiated, backed by a vector store.\u001B[39;00m\n\u001B[1;32m    170\u001B[0m \u001B[38;5;124;03m\"\"\"\u001B[39;00m\n\u001B[1;32m    171\u001B[0m string_examples \u001B[38;5;241m=\u001B[39m [\u001B[38;5;28mcls\u001B[39m\u001B[38;5;241m.\u001B[39m_example_to_text(eg, input_keys) \u001B[38;5;28;01mfor\u001B[39;00m eg \u001B[38;5;129;01min\u001B[39;00m examples]\n\u001B[0;32m--> 172\u001B[0m vectorstore \u001B[38;5;241m=\u001B[39m vectorstore_cls\u001B[38;5;241m.\u001B[39mfrom_texts(\n\u001B[1;32m    173\u001B[0m     string_examples, embeddings, metadatas\u001B[38;5;241m=\u001B[39mexamples, \u001B[38;5;241m*\u001B[39m\u001B[38;5;241m*\u001B[39mvectorstore_cls_kwargs\n\u001B[1;32m    174\u001B[0m )\n\u001B[1;32m    175\u001B[0m \u001B[38;5;28;01mreturn\u001B[39;00m \u001B[38;5;28mcls\u001B[39m(\n\u001B[1;32m    176\u001B[0m     vectorstore\u001B[38;5;241m=\u001B[39mvectorstore,\n\u001B[1;32m    177\u001B[0m     k\u001B[38;5;241m=\u001B[39mk,\n\u001B[0;32m   (...)\u001B[0m\n\u001B[1;32m    180\u001B[0m     vectorstore_kwargs\u001B[38;5;241m=\u001B[39mvectorstore_kwargs,\n\u001B[1;32m    181\u001B[0m )\n",
      "File \u001B[0;32m~/miniconda3/envs/langchain-demo/lib/python3.11/site-packages/langchain_community/vectorstores/qdrant.py:1339\u001B[0m, in \u001B[0;36mQdrant.from_texts\u001B[0;34m(cls, texts, embedding, metadatas, ids, location, url, port, grpc_port, prefer_grpc, https, api_key, prefix, timeout, host, path, collection_name, distance_func, content_payload_key, metadata_payload_key, vector_name, batch_size, shard_number, replication_factor, write_consistency_factor, on_disk_payload, hnsw_config, optimizers_config, wal_config, quantization_config, init_from, on_disk, force_recreate, **kwargs)\u001B[0m\n\u001B[1;32m   1199\u001B[0m \u001B[38;5;129m@classmethod\u001B[39m\n\u001B[1;32m   1200\u001B[0m \u001B[38;5;28;01mdef\u001B[39;00m \u001B[38;5;21mfrom_texts\u001B[39m(\n\u001B[1;32m   1201\u001B[0m     \u001B[38;5;28mcls\u001B[39m: Type[Qdrant],\n\u001B[0;32m   (...)\u001B[0m\n\u001B[1;32m   1234\u001B[0m     \u001B[38;5;241m*\u001B[39m\u001B[38;5;241m*\u001B[39mkwargs: Any,\n\u001B[1;32m   1235\u001B[0m ) \u001B[38;5;241m-\u001B[39m\u001B[38;5;241m>\u001B[39m Qdrant:\n\u001B[1;32m   1236\u001B[0m \u001B[38;5;250m    \u001B[39m\u001B[38;5;124;03m\"\"\"Construct Qdrant wrapper from a list of texts.\u001B[39;00m\n\u001B[1;32m   1237\u001B[0m \n\u001B[1;32m   1238\u001B[0m \u001B[38;5;124;03m    Args:\u001B[39;00m\n\u001B[0;32m   (...)\u001B[0m\n\u001B[1;32m   1337\u001B[0m \u001B[38;5;124;03m            qdrant = Qdrant.from_texts(texts, embeddings, \"localhost\")\u001B[39;00m\n\u001B[1;32m   1338\u001B[0m \u001B[38;5;124;03m    \"\"\"\u001B[39;00m\n\u001B[0;32m-> 1339\u001B[0m     qdrant \u001B[38;5;241m=\u001B[39m \u001B[38;5;28mcls\u001B[39m\u001B[38;5;241m.\u001B[39mconstruct_instance(\n\u001B[1;32m   1340\u001B[0m         texts,\n\u001B[1;32m   1341\u001B[0m         embedding,\n\u001B[1;32m   1342\u001B[0m         location,\n\u001B[1;32m   1343\u001B[0m         url,\n\u001B[1;32m   1344\u001B[0m         port,\n\u001B[1;32m   1345\u001B[0m         grpc_port,\n\u001B[1;32m   1346\u001B[0m         prefer_grpc,\n\u001B[1;32m   1347\u001B[0m         https,\n\u001B[1;32m   1348\u001B[0m         api_key,\n\u001B[1;32m   1349\u001B[0m         prefix,\n\u001B[1;32m   1350\u001B[0m         timeout,\n\u001B[1;32m   1351\u001B[0m         host,\n\u001B[1;32m   1352\u001B[0m         path,\n\u001B[1;32m   1353\u001B[0m         collection_name,\n\u001B[1;32m   1354\u001B[0m         distance_func,\n\u001B[1;32m   1355\u001B[0m         content_payload_key,\n\u001B[1;32m   1356\u001B[0m         metadata_payload_key,\n\u001B[1;32m   1357\u001B[0m         vector_name,\n\u001B[1;32m   1358\u001B[0m         shard_number,\n\u001B[1;32m   1359\u001B[0m         replication_factor,\n\u001B[1;32m   1360\u001B[0m         write_consistency_factor,\n\u001B[1;32m   1361\u001B[0m         on_disk_payload,\n\u001B[1;32m   1362\u001B[0m         hnsw_config,\n\u001B[1;32m   1363\u001B[0m         optimizers_config,\n\u001B[1;32m   1364\u001B[0m         wal_config,\n\u001B[1;32m   1365\u001B[0m         quantization_config,\n\u001B[1;32m   1366\u001B[0m         init_from,\n\u001B[1;32m   1367\u001B[0m         on_disk,\n\u001B[1;32m   1368\u001B[0m         force_recreate,\n\u001B[1;32m   1369\u001B[0m         \u001B[38;5;241m*\u001B[39m\u001B[38;5;241m*\u001B[39mkwargs,\n\u001B[1;32m   1370\u001B[0m     )\n\u001B[1;32m   1371\u001B[0m     qdrant\u001B[38;5;241m.\u001B[39madd_texts(texts, metadatas, ids, batch_size)\n\u001B[1;32m   1372\u001B[0m     \u001B[38;5;28;01mreturn\u001B[39;00m qdrant\n",
      "File \u001B[0;32m~/miniconda3/envs/langchain-demo/lib/python3.11/site-packages/langchain_community/vectorstores/qdrant.py:1667\u001B[0m, in \u001B[0;36mQdrant.construct_instance\u001B[0;34m(cls, texts, embedding, location, url, port, grpc_port, prefer_grpc, https, api_key, prefix, timeout, host, path, collection_name, distance_func, content_payload_key, metadata_payload_key, vector_name, shard_number, replication_factor, write_consistency_factor, on_disk_payload, hnsw_config, optimizers_config, wal_config, quantization_config, init_from, on_disk, force_recreate, **kwargs)\u001B[0m\n\u001B[1;32m   1662\u001B[0m     \u001B[38;5;28;01mraise\u001B[39;00m \u001B[38;5;167;01mValueError\u001B[39;00m\n\u001B[1;32m   1664\u001B[0m \u001B[38;5;66;03m# Get the vector configuration of the existing collection and vector, if it\u001B[39;00m\n\u001B[1;32m   1665\u001B[0m \u001B[38;5;66;03m# was specified. If the old configuration does not match the current one,\u001B[39;00m\n\u001B[1;32m   1666\u001B[0m \u001B[38;5;66;03m# an exception is being thrown.\u001B[39;00m\n\u001B[0;32m-> 1667\u001B[0m collection_info \u001B[38;5;241m=\u001B[39m client\u001B[38;5;241m.\u001B[39mget_collection(collection_name\u001B[38;5;241m=\u001B[39mcollection_name)\n\u001B[1;32m   1668\u001B[0m current_vector_config \u001B[38;5;241m=\u001B[39m collection_info\u001B[38;5;241m.\u001B[39mconfig\u001B[38;5;241m.\u001B[39mparams\u001B[38;5;241m.\u001B[39mvectors\n\u001B[1;32m   1669\u001B[0m \u001B[38;5;28;01mif\u001B[39;00m \u001B[38;5;28misinstance\u001B[39m(current_vector_config, \u001B[38;5;28mdict\u001B[39m) \u001B[38;5;129;01mand\u001B[39;00m vector_name \u001B[38;5;129;01mis\u001B[39;00m \u001B[38;5;129;01mnot\u001B[39;00m \u001B[38;5;28;01mNone\u001B[39;00m:\n",
      "File \u001B[0;32m~/miniconda3/envs/langchain-demo/lib/python3.11/site-packages/qdrant_client/qdrant_client.py:1755\u001B[0m, in \u001B[0;36mQdrantClient.get_collection\u001B[0;34m(self, collection_name, **kwargs)\u001B[0m\n\u001B[1;32m   1745\u001B[0m \u001B[38;5;250m\u001B[39m\u001B[38;5;124;03m\"\"\"Get detailed information about specified existing collection\u001B[39;00m\n\u001B[1;32m   1746\u001B[0m \n\u001B[1;32m   1747\u001B[0m \u001B[38;5;124;03mArgs:\u001B[39;00m\n\u001B[0;32m   (...)\u001B[0m\n\u001B[1;32m   1751\u001B[0m \u001B[38;5;124;03m    Detailed information about the collection\u001B[39;00m\n\u001B[1;32m   1752\u001B[0m \u001B[38;5;124;03m\"\"\"\u001B[39;00m\n\u001B[1;32m   1753\u001B[0m \u001B[38;5;28;01massert\u001B[39;00m \u001B[38;5;28mlen\u001B[39m(kwargs) \u001B[38;5;241m==\u001B[39m \u001B[38;5;241m0\u001B[39m, \u001B[38;5;124mf\u001B[39m\u001B[38;5;124m\"\u001B[39m\u001B[38;5;124mUnknown arguments: \u001B[39m\u001B[38;5;132;01m{\u001B[39;00m\u001B[38;5;28mlist\u001B[39m(kwargs\u001B[38;5;241m.\u001B[39mkeys())\u001B[38;5;132;01m}\u001B[39;00m\u001B[38;5;124m\"\u001B[39m\n\u001B[0;32m-> 1755\u001B[0m \u001B[38;5;28;01mreturn\u001B[39;00m \u001B[38;5;28mself\u001B[39m\u001B[38;5;241m.\u001B[39m_client\u001B[38;5;241m.\u001B[39mget_collection(collection_name\u001B[38;5;241m=\u001B[39mcollection_name, \u001B[38;5;241m*\u001B[39m\u001B[38;5;241m*\u001B[39mkwargs)\n",
      "File \u001B[0;32m~/miniconda3/envs/langchain-demo/lib/python3.11/site-packages/qdrant_client/qdrant_remote.py:2236\u001B[0m, in \u001B[0;36mQdrantRemote.get_collection\u001B[0;34m(self, collection_name, **kwargs)\u001B[0m\n\u001B[1;32m   2229\u001B[0m \u001B[38;5;28;01mif\u001B[39;00m \u001B[38;5;28mself\u001B[39m\u001B[38;5;241m.\u001B[39m_prefer_grpc:\n\u001B[1;32m   2230\u001B[0m     \u001B[38;5;28;01mreturn\u001B[39;00m GrpcToRest\u001B[38;5;241m.\u001B[39mconvert_collection_info(\n\u001B[1;32m   2231\u001B[0m         \u001B[38;5;28mself\u001B[39m\u001B[38;5;241m.\u001B[39mgrpc_collections\u001B[38;5;241m.\u001B[39mGet(\n\u001B[1;32m   2232\u001B[0m             grpc\u001B[38;5;241m.\u001B[39mGetCollectionInfoRequest(collection_name\u001B[38;5;241m=\u001B[39mcollection_name),\n\u001B[1;32m   2233\u001B[0m             timeout\u001B[38;5;241m=\u001B[39m\u001B[38;5;28mself\u001B[39m\u001B[38;5;241m.\u001B[39m_timeout,\n\u001B[1;32m   2234\u001B[0m         )\u001B[38;5;241m.\u001B[39mresult\n\u001B[1;32m   2235\u001B[0m     )\n\u001B[0;32m-> 2236\u001B[0m result: Optional[types\u001B[38;5;241m.\u001B[39mCollectionInfo] \u001B[38;5;241m=\u001B[39m \u001B[38;5;28mself\u001B[39m\u001B[38;5;241m.\u001B[39mhttp\u001B[38;5;241m.\u001B[39mcollections_api\u001B[38;5;241m.\u001B[39mget_collection(\n\u001B[1;32m   2237\u001B[0m     collection_name\u001B[38;5;241m=\u001B[39mcollection_name\n\u001B[1;32m   2238\u001B[0m )\u001B[38;5;241m.\u001B[39mresult\n\u001B[1;32m   2239\u001B[0m \u001B[38;5;28;01massert\u001B[39;00m result \u001B[38;5;129;01mis\u001B[39;00m \u001B[38;5;129;01mnot\u001B[39;00m \u001B[38;5;28;01mNone\u001B[39;00m, \u001B[38;5;124m\"\u001B[39m\u001B[38;5;124mGet collection returned None\u001B[39m\u001B[38;5;124m\"\u001B[39m\n\u001B[1;32m   2240\u001B[0m \u001B[38;5;28;01mreturn\u001B[39;00m result\n",
      "File \u001B[0;32m~/miniconda3/envs/langchain-demo/lib/python3.11/site-packages/qdrant_client/http/api/collections_api.py:1314\u001B[0m, in \u001B[0;36mSyncCollectionsApi.get_collection\u001B[0;34m(self, collection_name)\u001B[0m\n\u001B[1;32m   1307\u001B[0m \u001B[38;5;28;01mdef\u001B[39;00m \u001B[38;5;21mget_collection\u001B[39m(\n\u001B[1;32m   1308\u001B[0m     \u001B[38;5;28mself\u001B[39m,\n\u001B[1;32m   1309\u001B[0m     collection_name: \u001B[38;5;28mstr\u001B[39m,\n\u001B[1;32m   1310\u001B[0m ) \u001B[38;5;241m-\u001B[39m\u001B[38;5;241m>\u001B[39m m\u001B[38;5;241m.\u001B[39mInlineResponse2006:\n\u001B[1;32m   1311\u001B[0m \u001B[38;5;250m    \u001B[39m\u001B[38;5;124;03m\"\"\"\u001B[39;00m\n\u001B[1;32m   1312\u001B[0m \u001B[38;5;124;03m    Get detailed information about specified existing collection\u001B[39;00m\n\u001B[1;32m   1313\u001B[0m \u001B[38;5;124;03m    \"\"\"\u001B[39;00m\n\u001B[0;32m-> 1314\u001B[0m     \u001B[38;5;28;01mreturn\u001B[39;00m \u001B[38;5;28mself\u001B[39m\u001B[38;5;241m.\u001B[39m_build_for_get_collection(\n\u001B[1;32m   1315\u001B[0m         collection_name\u001B[38;5;241m=\u001B[39mcollection_name,\n\u001B[1;32m   1316\u001B[0m     )\n",
      "File \u001B[0;32m~/miniconda3/envs/langchain-demo/lib/python3.11/site-packages/qdrant_client/http/api/collections_api.py:397\u001B[0m, in \u001B[0;36m_CollectionsApi._build_for_get_collection\u001B[0;34m(self, collection_name)\u001B[0m\n\u001B[1;32m    392\u001B[0m path_params \u001B[38;5;241m=\u001B[39m {\n\u001B[1;32m    393\u001B[0m     \u001B[38;5;124m\"\u001B[39m\u001B[38;5;124mcollection_name\u001B[39m\u001B[38;5;124m\"\u001B[39m: \u001B[38;5;28mstr\u001B[39m(collection_name),\n\u001B[1;32m    394\u001B[0m }\n\u001B[1;32m    396\u001B[0m headers \u001B[38;5;241m=\u001B[39m {}\n\u001B[0;32m--> 397\u001B[0m \u001B[38;5;28;01mreturn\u001B[39;00m \u001B[38;5;28mself\u001B[39m\u001B[38;5;241m.\u001B[39mapi_client\u001B[38;5;241m.\u001B[39mrequest(\n\u001B[1;32m    398\u001B[0m     type_\u001B[38;5;241m=\u001B[39mm\u001B[38;5;241m.\u001B[39mInlineResponse2006,\n\u001B[1;32m    399\u001B[0m     method\u001B[38;5;241m=\u001B[39m\u001B[38;5;124m\"\u001B[39m\u001B[38;5;124mGET\u001B[39m\u001B[38;5;124m\"\u001B[39m,\n\u001B[1;32m    400\u001B[0m     url\u001B[38;5;241m=\u001B[39m\u001B[38;5;124m\"\u001B[39m\u001B[38;5;124m/collections/\u001B[39m\u001B[38;5;132;01m{collection_name}\u001B[39;00m\u001B[38;5;124m\"\u001B[39m,\n\u001B[1;32m    401\u001B[0m     headers\u001B[38;5;241m=\u001B[39mheaders \u001B[38;5;28;01mif\u001B[39;00m headers \u001B[38;5;28;01melse\u001B[39;00m \u001B[38;5;28;01mNone\u001B[39;00m,\n\u001B[1;32m    402\u001B[0m     path_params\u001B[38;5;241m=\u001B[39mpath_params,\n\u001B[1;32m    403\u001B[0m )\n",
      "File \u001B[0;32m~/miniconda3/envs/langchain-demo/lib/python3.11/site-packages/qdrant_client/http/api_client.py:79\u001B[0m, in \u001B[0;36mApiClient.request\u001B[0;34m(self, type_, method, url, path_params, **kwargs)\u001B[0m\n\u001B[1;32m     77\u001B[0m     kwargs[\u001B[38;5;124m\"\u001B[39m\u001B[38;5;124mtimeout\u001B[39m\u001B[38;5;124m\"\u001B[39m] \u001B[38;5;241m=\u001B[39m \u001B[38;5;28mint\u001B[39m(kwargs[\u001B[38;5;124m\"\u001B[39m\u001B[38;5;124mparams\u001B[39m\u001B[38;5;124m\"\u001B[39m][\u001B[38;5;124m\"\u001B[39m\u001B[38;5;124mtimeout\u001B[39m\u001B[38;5;124m\"\u001B[39m])\n\u001B[1;32m     78\u001B[0m request \u001B[38;5;241m=\u001B[39m \u001B[38;5;28mself\u001B[39m\u001B[38;5;241m.\u001B[39m_client\u001B[38;5;241m.\u001B[39mbuild_request(method, url, \u001B[38;5;241m*\u001B[39m\u001B[38;5;241m*\u001B[39mkwargs)\n\u001B[0;32m---> 79\u001B[0m \u001B[38;5;28;01mreturn\u001B[39;00m \u001B[38;5;28mself\u001B[39m\u001B[38;5;241m.\u001B[39msend(request, type_)\n",
      "File \u001B[0;32m~/miniconda3/envs/langchain-demo/lib/python3.11/site-packages/qdrant_client/http/api_client.py:96\u001B[0m, in \u001B[0;36mApiClient.send\u001B[0;34m(self, request, type_)\u001B[0m\n\u001B[1;32m     95\u001B[0m \u001B[38;5;28;01mdef\u001B[39;00m \u001B[38;5;21msend\u001B[39m(\u001B[38;5;28mself\u001B[39m, request: Request, type_: Type[T]) \u001B[38;5;241m-\u001B[39m\u001B[38;5;241m>\u001B[39m T:\n\u001B[0;32m---> 96\u001B[0m     response \u001B[38;5;241m=\u001B[39m \u001B[38;5;28mself\u001B[39m\u001B[38;5;241m.\u001B[39mmiddleware(request, \u001B[38;5;28mself\u001B[39m\u001B[38;5;241m.\u001B[39msend_inner)\n\u001B[1;32m     97\u001B[0m     \u001B[38;5;28;01mif\u001B[39;00m response\u001B[38;5;241m.\u001B[39mstatus_code \u001B[38;5;129;01min\u001B[39;00m [\u001B[38;5;241m200\u001B[39m, \u001B[38;5;241m201\u001B[39m, \u001B[38;5;241m202\u001B[39m]:\n\u001B[1;32m     98\u001B[0m         \u001B[38;5;28;01mtry\u001B[39;00m:\n",
      "File \u001B[0;32m~/miniconda3/envs/langchain-demo/lib/python3.11/site-packages/qdrant_client/http/api_client.py:205\u001B[0m, in \u001B[0;36mBaseMiddleware.__call__\u001B[0;34m(self, request, call_next)\u001B[0m\n\u001B[1;32m    204\u001B[0m \u001B[38;5;28;01mdef\u001B[39;00m \u001B[38;5;21m__call__\u001B[39m(\u001B[38;5;28mself\u001B[39m, request: Request, call_next: Send) \u001B[38;5;241m-\u001B[39m\u001B[38;5;241m>\u001B[39m Response:\n\u001B[0;32m--> 205\u001B[0m     \u001B[38;5;28;01mreturn\u001B[39;00m call_next(request)\n",
      "File \u001B[0;32m~/miniconda3/envs/langchain-demo/lib/python3.11/site-packages/qdrant_client/http/api_client.py:108\u001B[0m, in \u001B[0;36mApiClient.send_inner\u001B[0;34m(self, request)\u001B[0m\n\u001B[1;32m    106\u001B[0m     response \u001B[38;5;241m=\u001B[39m \u001B[38;5;28mself\u001B[39m\u001B[38;5;241m.\u001B[39m_client\u001B[38;5;241m.\u001B[39msend(request)\n\u001B[1;32m    107\u001B[0m \u001B[38;5;28;01mexcept\u001B[39;00m \u001B[38;5;167;01mException\u001B[39;00m \u001B[38;5;28;01mas\u001B[39;00m e:\n\u001B[0;32m--> 108\u001B[0m     \u001B[38;5;28;01mraise\u001B[39;00m ResponseHandlingException(e)\n\u001B[1;32m    109\u001B[0m \u001B[38;5;28;01mreturn\u001B[39;00m response\n",
      "\u001B[0;31mResponseHandlingException\u001B[0m: [Errno 61] Connection refused"
     ]
    }
   ],
   "execution_count": 21
  },
  {
   "metadata": {
    "ExecuteTime": {
     "end_time": "2024-08-07T10:03:05.958881Z",
     "start_time": "2024-08-07T10:03:05.957178Z"
    }
   },
   "cell_type": "code",
   "source": "",
   "id": "92ad74513b90f67b",
   "outputs": [],
   "execution_count": 20
  },
  {
   "metadata": {
    "ExecuteTime": {
     "end_time": "2024-08-07T10:03:08.200948Z",
     "start_time": "2024-08-07T10:03:08.199638Z"
    }
   },
   "cell_type": "code",
   "source": "",
   "id": "e9c9c7d88506c2d",
   "outputs": [],
   "execution_count": 20
  },
  {
   "metadata": {},
   "cell_type": "code",
   "outputs": [],
   "execution_count": null,
   "source": "",
   "id": "48bd5db2e808af94"
  }
 ],
 "metadata": {
  "kernelspec": {
   "display_name": "langchain-demo",
   "language": "python",
   "name": "langchain-demo"
  },
  "language_info": {
   "codemirror_mode": {
    "name": "ipython",
    "version": 2
   },
   "file_extension": ".py",
   "mimetype": "text/x-python",
   "name": "python",
   "nbconvert_exporter": "python",
   "pygments_lexer": "ipython2",
   "version": "2.7.6"
  }
 },
 "nbformat": 4,
 "nbformat_minor": 5
}
