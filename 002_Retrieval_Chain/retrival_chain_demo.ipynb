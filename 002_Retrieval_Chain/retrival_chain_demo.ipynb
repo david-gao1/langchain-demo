{
 "cells": [
  {
   "metadata": {},
   "cell_type": "markdown",
   "source": "# 检索器可以用于检索文档，协助大模型回答问题",
   "id": "decf555d2ccd7a37"
  },
  {
   "metadata": {
    "ExecuteTime": {
     "end_time": "2024-07-16T10:26:52.566011Z",
     "start_time": "2024-07-16T10:26:52.524721Z"
    }
   },
   "cell_type": "code",
   "source": [
    "from langchain_openai import ChatOpenAI\n",
    "# 通过langchain设置chatapi \n",
    "llm = ChatOpenAI()\n",
    "\n",
    "# 不设置环境变量的方式 ,非常不建议这么做\n",
    "#from langchain_openai import ChatOpenAI\n",
    " \n",
    "#llm = ChatOpenAI(api_key=\"...\")"
   ],
   "id": "ab682ba45c543015",
   "outputs": [],
   "execution_count": 8
  },
  {
   "cell_type": "code",
   "id": "initial_id",
   "metadata": {
    "collapsed": true,
    "ExecuteTime": {
     "end_time": "2024-07-16T10:17:23.584759Z",
     "start_time": "2024-07-16T10:17:21.317949Z"
    }
   },
   "source": [
    "# 加载要索引的数据。为此，我们将使用WebBaseLoader\n",
    "from langchain_community.document_loaders import WebBaseLoader\n",
    "\n",
    "loader = WebBaseLoader(\"https://docs.smith.langchain.com/user_guide\")\n",
    "\n",
    "docs = loader.load()"
   ],
   "outputs": [
    {
     "name": "stderr",
     "output_type": "stream",
     "text": [
      "USER_AGENT environment variable not set, consider setting it to identify your requests.\n"
     ]
    }
   ],
   "execution_count": 2
  },
  {
   "metadata": {
    "ExecuteTime": {
     "end_time": "2024-07-16T10:23:11.746292Z",
     "start_time": "2024-07-16T10:23:11.707385Z"
    }
   },
   "cell_type": "code",
   "source": [
    "# 将其索引到向量存储中。\n",
    "from langchain_openai import OpenAIEmbeddings\n",
    "\n",
    "embeddings = OpenAIEmbeddings()"
   ],
   "id": "14b9a566a5193d74",
   "outputs": [],
   "execution_count": 4
  },
  {
   "metadata": {
    "ExecuteTime": {
     "end_time": "2024-07-16T10:24:59.594365Z",
     "start_time": "2024-07-16T10:24:58.837433Z"
    }
   },
   "cell_type": "code",
   "source": [
    "# 构建我们的索引\n",
    "from langchain_community.vectorstores import FAISS\n",
    "from langchain_text_splitters import RecursiveCharacterTextSplitter\n",
    "\n",
    "text_splitter = RecursiveCharacterTextSplitter()\n",
    "documents = text_splitter.split_documents(docs)\n",
    "vector = FAISS.from_documents(documents, embeddings)"
   ],
   "id": "abdf57c33506173",
   "outputs": [],
   "execution_count": 6
  },
  {
   "metadata": {},
   "cell_type": "markdown",
   "source": [
    "现在，我们在向量存储中索引了这些数据，我们将创建一个检索链。该链将接收一个输入问题，查找相关文档，然后将这些文档连同原始问题一起传递给LLM，并要求它回答原始问题。\n",
    "\n",
    "首先，让我们设置链来接收一个问题和检索到的文档，并生成一个回答。"
   ],
   "id": "95ffba799d0040c1"
  },
  {
   "metadata": {
    "ExecuteTime": {
     "end_time": "2024-07-16T10:26:56.292259Z",
     "start_time": "2024-07-16T10:26:56.288727Z"
    }
   },
   "cell_type": "code",
   "source": [
    "from langchain_core.prompts import ChatPromptTemplate\n",
    "from langchain.chains.combine_documents import create_stuff_documents_chain\n",
    "\n",
    "prompt = ChatPromptTemplate.from_template(\n",
    "    \"\"\"Answer the following question based only on the provided context:\n",
    " \n",
    "<context>\n",
    "{context}\n",
    "</context>\n",
    " \n",
    "Question: {input}\"\"\")\n",
    "\n",
    "document_chain = create_stuff_documents_chain(llm, prompt)"
   ],
   "id": "52ec4ac395b52f76",
   "outputs": [],
   "execution_count": 9
  },
  {
   "metadata": {},
   "cell_type": "markdown",
   "source": "如果我们想的话，可以直接传递文档来运行它：",
   "id": "ffadb6302091bc73"
  },
  {
   "metadata": {
    "ExecuteTime": {
     "end_time": "2024-07-16T10:27:36.541381Z",
     "start_time": "2024-07-16T10:27:34.763691Z"
    }
   },
   "cell_type": "code",
   "source": [
    "from langchain_core.documents import Document\n",
    " \n",
    "document_chain.invoke({\n",
    "    \"input\": \"how can langsmith help with testing?\",\n",
    "    \"context\": [Document(page_content=\"langsmith can let you visualize test results\")]\n",
    "})"
   ],
   "id": "6a73fb7e8780f18e",
   "outputs": [
    {
     "data": {
      "text/plain": [
       "'Langsmith can help with testing by allowing you to visualize test results.'"
      ]
     },
     "execution_count": 10,
     "metadata": {},
     "output_type": "execute_result"
    }
   ],
   "execution_count": 10
  },
  {
   "metadata": {},
   "cell_type": "markdown",
   "source": [
    "然而，我们希望文档首先来自我们刚刚设置的检索器。\n",
    "这样，我们就可以使用检索器动态选择最相关的文档并将其传递给给定的问题。"
   ],
   "id": "970af85eecddcc40"
  },
  {
   "metadata": {
    "ExecuteTime": {
     "end_time": "2024-07-16T10:29:01.338527Z",
     "start_time": "2024-07-16T10:29:01.334172Z"
    }
   },
   "cell_type": "code",
   "source": [
    "from langchain.chains import create_retrieval_chain\n",
    " \n",
    "retriever = vector.as_retriever()\n",
    "retrieval_chain = create_retrieval_chain(retriever, document_chain)"
   ],
   "id": "5c128d9ca94d7640",
   "outputs": [],
   "execution_count": 11
  },
  {
   "metadata": {},
   "cell_type": "markdown",
   "source": "现在，我们可以调用此链。这将返回一个词典-LLM的响应在answer键中。",
   "id": "c0e7022f9ebefa92"
  },
  {
   "metadata": {
    "ExecuteTime": {
     "end_time": "2024-07-16T10:29:29.575448Z",
     "start_time": "2024-07-16T10:29:25.141673Z"
    }
   },
   "cell_type": "code",
   "source": [
    "response = retrieval_chain.invoke({\"input\": \"how can langsmith help with testing?\"})\n",
    "print(response[\"answer\"])\n",
    " \n",
    "# LangSmith提供了几个功能，可以帮助进行测试:..."
   ],
   "id": "6937f54e6939d4df",
   "outputs": [
    {
     "name": "stdout",
     "output_type": "stream",
     "text": [
      "LangSmith can help with testing by allowing developers to create datasets, run tests on LLM applications, upload test cases in bulk, create custom evaluations, compare results for different configurations side-by-side, provide a playground environment for rapid iteration and experimentation, collect data on application performance in real-world scenarios during beta testing, gather human feedback on application responses, attach feedback scores to logged traces, send runs to annotation queues for inspection, add runs as examples to datasets to expand test coverage, closely inspect key data points, monitor key metrics over time, perform online evaluations and automations on production traces in near real-time, group traces from a single conversation for easier tracking, and conduct A/B testing on changes in prompt, model, or retrieval strategy.\n"
     ]
    }
   ],
   "execution_count": 12
  },
  {
   "metadata": {},
   "cell_type": "code",
   "outputs": [],
   "execution_count": null,
   "source": "",
   "id": "693659897506228e"
  }
 ],
 "metadata": {
  "kernelspec": {
   "display_name": "langchain-demo",
   "language": "python",
   "name": "langchain-demo"
  },
  "language_info": {
   "codemirror_mode": {
    "name": "ipython",
    "version": 2
   },
   "file_extension": ".py",
   "mimetype": "text/x-python",
   "name": "python",
   "nbconvert_exporter": "python",
   "pygments_lexer": "ipython2",
   "version": "2.7.6"
  }
 },
 "nbformat": 4,
 "nbformat_minor": 5
}
