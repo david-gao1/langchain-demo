{
 "cells": [
  {
   "metadata": {},
   "cell_type": "markdown",
   "source": [
    "# 1. format prompt and llm\n",
    " 构建prompt模版，动态替换变量，然后借助大模型生成文案"
   ],
   "id": "c5dadd4402301eba"
  },
  {
   "metadata": {
    "ExecuteTime": {
     "end_time": "2024-08-07T08:23:58.962625Z",
     "start_time": "2024-08-07T08:23:56.471742Z"
    }
   },
   "cell_type": "code",
   "source": [
    "# 利用构建带有变量的prompt模版\n",
    "from langchain.prompts import PromptTemplate\n",
    "template = \"\"\"您是一位专业的鲜花店文案撰写员。\\n\n",
    "对于售价为 {price} 元的 {flower_name} ，您能提供一个吸引人的简短描述吗？\n",
    "\"\"\"\n",
    "prompt = PromptTemplate.from_template(template)\n",
    "print(prompt)\n",
    "\n",
    "from langchain_openai import OpenAI\n",
    "model = OpenAI(model_name='gpt-3.5-turbo-instruct')\n",
    "# 替换变量\n",
    "input = prompt.format(flower_name=[\"玫瑰\"], price='50')\n",
    "\n",
    "# 调用大模型\n",
    "output = model.invoke(input)\n",
    "print(output)\n"
   ],
   "id": "4cac7f68ebbcb18c",
   "outputs": [
    {
     "name": "stdout",
     "output_type": "stream",
     "text": [
      "input_variables=['flower_name', 'price'] template='您是一位专业的鲜花店文案撰写员。\\n\\n对于售价为 {price} 元的 {flower_name} ，您能提供一个吸引人的简短描述吗？\\n'\n",
      "\n",
      "\"精致的玫瑰，花瓣饱满，色彩艳丽，散发着迷人的芬芳。只需 50 元，就能将这份浪漫的感受带给您的爱人。让这束玫瑰成为您爱意的最佳表达，让TA感受到您的真挚情感。\"\n"
     ]
    }
   ],
   "execution_count": 1
  },
  {
   "metadata": {},
   "cell_type": "markdown",
   "source": "# 循环输出",
   "id": "4b03ca82896955ac"
  },
  {
   "metadata": {
    "ExecuteTime": {
     "end_time": "2024-08-07T08:31:49.573616Z",
     "start_time": "2024-08-07T08:31:42.484677Z"
    }
   },
   "cell_type": "code",
   "source": [
    "# 多种花的列表\n",
    "flowers = [\"玫瑰\", \"百合\", \"康乃馨\"]\n",
    "prices = [\"50\", \"30\", \"20\"]\n",
    "\n",
    "# 生成多种花的文案\n",
    "for flower, price in zip(flowers, prices):\n",
    "    # 使用提示模板生成输入\n",
    "    input_prompt = prompt.format(flower_name=flower, price=price)\n",
    "\n",
    "    # 得到模型的输出\n",
    "    output = model.invoke(input_prompt)\n",
    "\n",
    "    # 打印输出内容\n",
    "    print(output)"
   ],
   "id": "f66a25617c4adf89",
   "outputs": [
    {
     "name": "stdout",
     "output_type": "stream",
     "text": [
      "\n",
      "“浓郁的浪漫，恰到好处的华丽，这束50元的玫瑰将带给您和您的爱人一场甜蜜的感官盛宴。精致的花朵和芳香四溢的气息，将让您的爱情更加绚丽多彩。让我们的玫瑰为您的爱情故事增添一抹浪漫的色彩。” \n",
      "\n",
      "想要送给心爱的人一份精致的礼物吗？不妨选择这束美丽的百合，它象征着纯洁和高贵，完美地表达出您对TA的爱意。只需 30 元，就能让TA感受到您的真挚情感，让这束百合为您打开爱的大门。快来把它带回家，让它成为您爱情道路上的最佳见证吧！\n",
      "\n",
      "“给你的爱人带来温馨与美好，这束价格实惠的康乃馨将为你们的爱情之花增添一抹浪漫色彩。清新的花香和粉嫩的花瓣，将带来幸福的气息，让心中的爱意绽放。赶快把这份花束带回家，让爱的火花绽放不停！”\n"
     ]
    }
   ],
   "execution_count": 2
  },
  {
   "metadata": {},
   "cell_type": "code",
   "outputs": [],
   "execution_count": null,
   "source": "",
   "id": "1a4f537eac2f4eea"
  }
 ],
 "metadata": {
  "kernelspec": {
   "display_name": "langchain-demo",
   "language": "python",
   "name": "langchain-demo"
  },
  "language_info": {
   "codemirror_mode": {
    "name": "ipython",
    "version": 2
   },
   "file_extension": ".py",
   "mimetype": "text/x-python",
   "name": "python",
   "nbconvert_exporter": "python",
   "pygments_lexer": "ipython2",
   "version": "2.7.6"
  }
 },
 "nbformat": 4,
 "nbformat_minor": 5
}
