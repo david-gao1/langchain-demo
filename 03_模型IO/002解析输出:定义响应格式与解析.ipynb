{
 "cells": [
  {
   "metadata": {},
   "cell_type": "markdown",
   "source": " 创建模版与创建响应格式",
   "id": "27ea590beab90eb4"
  },
  {
   "metadata": {
    "ExecuteTime": {
     "end_time": "2024-08-07T08:37:59.023503Z",
     "start_time": "2024-08-07T08:37:58.837732Z"
    }
   },
   "cell_type": "code",
   "source": [
    "# 1. 创建提示模板\n",
    "from langchain.prompts import PromptTemplate\n",
    "prompt_template = \"\"\"您是一位专业的鲜花店文案撰写员。\n",
    "对于售价为 {price} 元的 {flower_name} ，您能提供一个吸引人的简短描述吗？\n",
    "{format_instructions}\"\"\"\n",
    "\n",
    "\n",
    "# 定义我们想要接收的响应模式\n",
    "from langchain.output_parsers import StructuredOutputParser, ResponseSchema\n",
    "response_schemas = [\n",
    "    ResponseSchema(name=\"description\", description=\"鲜花的描述文案\"),\n",
    "    ResponseSchema(name=\"reason\", description=\"问什么要这样写这个文案\")\n",
    "]\n",
    "# 创建输出解析器\n",
    "output_parser = StructuredOutputParser.from_response_schemas(response_schemas)\n",
    "\n",
    "# 获取格式指示\n",
    "format_instructions = output_parser.get_format_instructions()\n",
    "# 根据模板创建提示，同时在提示中加入输出解析器的说明\n",
    "prompt = PromptTemplate.from_template(prompt_template, \n",
    "                partial_variables={\"format_instructions\": format_instructions}) \n",
    "\n",
    "print(prompt)"
   ],
   "id": "99fc826178f7533a",
   "outputs": [
    {
     "name": "stdout",
     "output_type": "stream",
     "text": [
      "input_variables=['flower_name', 'price'] partial_variables={'format_instructions': 'The output should be a markdown code snippet formatted in the following schema, including the leading and trailing \"```json\" and \"```\":\\n\\n```json\\n{\\n\\t\"description\": string  // 鲜花的描述文案\\n\\t\"reason\": string  // 问什么要这样写这个文案\\n}\\n```'} template='您是一位专业的鲜花店文案撰写员。\\n对于售价为 {price} 元的 {flower_name} ，您能提供一个吸引人的简短描述吗？\\n{format_instructions}'\n"
     ]
    }
   ],
   "execution_count": 1
  },
  {
   "metadata": {},
   "cell_type": "markdown",
   "source": "",
   "id": "c8e17aade6ef1eda"
  },
  {
   "metadata": {
    "ExecuteTime": {
     "end_time": "2024-08-07T08:50:52.140610Z",
     "start_time": "2024-08-07T08:50:49.110997Z"
    }
   },
   "cell_type": "code",
   "source": [
    "flowers = [\"玫瑰\", \"百合\", \"康乃馨\"]\n",
    "prices = [\"50\", \"30\", \"20\"]\n",
    "\n",
    "from langchain_openai import OpenAI\n",
    "model = OpenAI(model_name='gpt-3.5-turbo-instruct')\n",
    "\n",
    "# 创建一个空的DataFrame用于存储结果\n",
    "import pandas as pd\n",
    "df = pd.DataFrame(columns=[\"flower\", \"price\", \"description\", \"reason\"]) # 先声明列名\n",
    "\n",
    "for flower, price in zip(flowers, prices):\n",
    "    input = prompt.format(flower_name=flower, price=price)\n",
    "    print(\"---\")\n",
    "    print(input)\n",
    "    print(\"---\")\n",
    "    output = model.invoke(input)\n",
    "    print(output)\n",
    "    parsed_output = output_parser.parse(output) # 解析大模型输出，返回字典\n",
    "    parsed_output['flower'] = flower  # 添加变量字段\n",
    "    parsed_output['price'] = price\n",
    "    df.loc[len(df)] = parsed_output  # 字典放到list中即：DataFrame\n",
    "print(df.to_dict(orient='records'))\n",
    "df.to_csv(\"flowers_with_descriptions.csv\", index=False) # 保存DataFrame到CSV文件"
   ],
   "id": "bafc162df5ebd5b9",
   "outputs": [
    {
     "name": "stdout",
     "output_type": "stream",
     "text": [
      "---\n",
      "您是一位专业的鲜花店文案撰写员。\n",
      "对于售价为 50 元的 玫瑰 ，您能提供一个吸引人的简短描述吗？\n",
      "The output should be a markdown code snippet formatted in the following schema, including the leading and trailing \"```json\" and \"```\":\n",
      "\n",
      "```json\n",
      "{\n",
      "\t\"description\": string  // 鲜花的描述文案\n",
      "\t\"reason\": string  // 问什么要这样写这个文案\n",
      "}\n",
      "```\n",
      "---\n",
      "json\n",
      "{\n",
      "\t\"description\": \"这束粉色的玫瑰散发着浓郁的花香，每一朵都像是爱的告白，温柔而又充满力量。它是表达爱意、感谢、祝福的完美选择。\",\n",
      "\t\"reason\": \"这样的文案可以吸引顾客的注意力，让他们感受到玫瑰的浪漫和温馨，同时也突出了玫瑰作为送礼的完美选择。\" \n",
      "}\n"
     ]
    },
    {
     "ename": "OutputParserException",
     "evalue": "Got invalid JSON object. Error: Expecting value: line 1 column 1 (char 0)",
     "output_type": "error",
     "traceback": [
      "\u001B[0;31m---------------------------------------------------------------------------\u001B[0m",
      "\u001B[0;31mJSONDecodeError\u001B[0m                           Traceback (most recent call last)",
      "File \u001B[0;32m~/miniconda3/envs/langchain-demo/lib/python3.11/site-packages/langchain_core/utils/json.py:183\u001B[0m, in \u001B[0;36mparse_and_check_json_markdown\u001B[0;34m(text, expected_keys)\u001B[0m\n\u001B[1;32m    182\u001B[0m \u001B[38;5;28;01mtry\u001B[39;00m:\n\u001B[0;32m--> 183\u001B[0m     json_obj \u001B[38;5;241m=\u001B[39m parse_json_markdown(text)\n\u001B[1;32m    184\u001B[0m \u001B[38;5;28;01mexcept\u001B[39;00m json\u001B[38;5;241m.\u001B[39mJSONDecodeError \u001B[38;5;28;01mas\u001B[39;00m e:\n",
      "File \u001B[0;32m~/miniconda3/envs/langchain-demo/lib/python3.11/site-packages/langchain_core/utils/json.py:147\u001B[0m, in \u001B[0;36mparse_json_markdown\u001B[0;34m(json_string, parser)\u001B[0m\n\u001B[1;32m    146\u001B[0m         json_str \u001B[38;5;241m=\u001B[39m match\u001B[38;5;241m.\u001B[39mgroup(\u001B[38;5;241m2\u001B[39m)\n\u001B[0;32m--> 147\u001B[0m \u001B[38;5;28;01mreturn\u001B[39;00m _parse_json(json_str, parser\u001B[38;5;241m=\u001B[39mparser)\n",
      "File \u001B[0;32m~/miniconda3/envs/langchain-demo/lib/python3.11/site-packages/langchain_core/utils/json.py:163\u001B[0m, in \u001B[0;36m_parse_json\u001B[0;34m(json_str, parser)\u001B[0m\n\u001B[1;32m    162\u001B[0m \u001B[38;5;66;03m# Parse the JSON string into a Python dictionary\u001B[39;00m\n\u001B[0;32m--> 163\u001B[0m \u001B[38;5;28;01mreturn\u001B[39;00m parser(json_str)\n",
      "File \u001B[0;32m~/miniconda3/envs/langchain-demo/lib/python3.11/site-packages/langchain_core/utils/json.py:118\u001B[0m, in \u001B[0;36mparse_partial_json\u001B[0;34m(s, strict)\u001B[0m\n\u001B[1;32m    115\u001B[0m \u001B[38;5;66;03m# If we got here, we ran out of characters to remove\u001B[39;00m\n\u001B[1;32m    116\u001B[0m \u001B[38;5;66;03m# and still couldn't parse the string as JSON, so return the parse error\u001B[39;00m\n\u001B[1;32m    117\u001B[0m \u001B[38;5;66;03m# for the original string.\u001B[39;00m\n\u001B[0;32m--> 118\u001B[0m \u001B[38;5;28;01mreturn\u001B[39;00m json\u001B[38;5;241m.\u001B[39mloads(s, strict\u001B[38;5;241m=\u001B[39mstrict)\n",
      "File \u001B[0;32m~/miniconda3/envs/langchain-demo/lib/python3.11/json/__init__.py:359\u001B[0m, in \u001B[0;36mloads\u001B[0;34m(s, cls, object_hook, parse_float, parse_int, parse_constant, object_pairs_hook, **kw)\u001B[0m\n\u001B[1;32m    358\u001B[0m     kw[\u001B[38;5;124m'\u001B[39m\u001B[38;5;124mparse_constant\u001B[39m\u001B[38;5;124m'\u001B[39m] \u001B[38;5;241m=\u001B[39m parse_constant\n\u001B[0;32m--> 359\u001B[0m \u001B[38;5;28;01mreturn\u001B[39;00m \u001B[38;5;28mcls\u001B[39m(\u001B[38;5;241m*\u001B[39m\u001B[38;5;241m*\u001B[39mkw)\u001B[38;5;241m.\u001B[39mdecode(s)\n",
      "File \u001B[0;32m~/miniconda3/envs/langchain-demo/lib/python3.11/json/decoder.py:337\u001B[0m, in \u001B[0;36mJSONDecoder.decode\u001B[0;34m(self, s, _w)\u001B[0m\n\u001B[1;32m    333\u001B[0m \u001B[38;5;250m\u001B[39m\u001B[38;5;124;03m\"\"\"Return the Python representation of ``s`` (a ``str`` instance\u001B[39;00m\n\u001B[1;32m    334\u001B[0m \u001B[38;5;124;03mcontaining a JSON document).\u001B[39;00m\n\u001B[1;32m    335\u001B[0m \n\u001B[1;32m    336\u001B[0m \u001B[38;5;124;03m\"\"\"\u001B[39;00m\n\u001B[0;32m--> 337\u001B[0m obj, end \u001B[38;5;241m=\u001B[39m \u001B[38;5;28mself\u001B[39m\u001B[38;5;241m.\u001B[39mraw_decode(s, idx\u001B[38;5;241m=\u001B[39m_w(s, \u001B[38;5;241m0\u001B[39m)\u001B[38;5;241m.\u001B[39mend())\n\u001B[1;32m    338\u001B[0m end \u001B[38;5;241m=\u001B[39m _w(s, end)\u001B[38;5;241m.\u001B[39mend()\n",
      "File \u001B[0;32m~/miniconda3/envs/langchain-demo/lib/python3.11/json/decoder.py:355\u001B[0m, in \u001B[0;36mJSONDecoder.raw_decode\u001B[0;34m(self, s, idx)\u001B[0m\n\u001B[1;32m    354\u001B[0m \u001B[38;5;28;01mexcept\u001B[39;00m \u001B[38;5;167;01mStopIteration\u001B[39;00m \u001B[38;5;28;01mas\u001B[39;00m err:\n\u001B[0;32m--> 355\u001B[0m     \u001B[38;5;28;01mraise\u001B[39;00m JSONDecodeError(\u001B[38;5;124m\"\u001B[39m\u001B[38;5;124mExpecting value\u001B[39m\u001B[38;5;124m\"\u001B[39m, s, err\u001B[38;5;241m.\u001B[39mvalue) \u001B[38;5;28;01mfrom\u001B[39;00m \u001B[38;5;28;01mNone\u001B[39;00m\n\u001B[1;32m    356\u001B[0m \u001B[38;5;28;01mreturn\u001B[39;00m obj, end\n",
      "\u001B[0;31mJSONDecodeError\u001B[0m: Expecting value: line 1 column 1 (char 0)",
      "\nDuring handling of the above exception, another exception occurred:\n",
      "\u001B[0;31mOutputParserException\u001B[0m                     Traceback (most recent call last)",
      "Cell \u001B[0;32mIn[4], line 18\u001B[0m\n\u001B[1;32m     16\u001B[0m output \u001B[38;5;241m=\u001B[39m model\u001B[38;5;241m.\u001B[39minvoke(\u001B[38;5;28minput\u001B[39m)\n\u001B[1;32m     17\u001B[0m \u001B[38;5;28mprint\u001B[39m(output)\n\u001B[0;32m---> 18\u001B[0m parsed_output \u001B[38;5;241m=\u001B[39m output_parser\u001B[38;5;241m.\u001B[39mparse(output) \u001B[38;5;66;03m# 解析大模型输出，返回字典\u001B[39;00m\n\u001B[1;32m     19\u001B[0m parsed_output[\u001B[38;5;124m'\u001B[39m\u001B[38;5;124mflower\u001B[39m\u001B[38;5;124m'\u001B[39m] \u001B[38;5;241m=\u001B[39m flower  \u001B[38;5;66;03m# 添加变量字段\u001B[39;00m\n\u001B[1;32m     20\u001B[0m parsed_output[\u001B[38;5;124m'\u001B[39m\u001B[38;5;124mprice\u001B[39m\u001B[38;5;124m'\u001B[39m] \u001B[38;5;241m=\u001B[39m price\n",
      "File \u001B[0;32m~/miniconda3/envs/langchain-demo/lib/python3.11/site-packages/langchain/output_parsers/structured.py:97\u001B[0m, in \u001B[0;36mStructuredOutputParser.parse\u001B[0;34m(self, text)\u001B[0m\n\u001B[1;32m     95\u001B[0m \u001B[38;5;28;01mdef\u001B[39;00m \u001B[38;5;21mparse\u001B[39m(\u001B[38;5;28mself\u001B[39m, text: \u001B[38;5;28mstr\u001B[39m) \u001B[38;5;241m-\u001B[39m\u001B[38;5;241m>\u001B[39m Dict[\u001B[38;5;28mstr\u001B[39m, Any]:\n\u001B[1;32m     96\u001B[0m     expected_keys \u001B[38;5;241m=\u001B[39m [rs\u001B[38;5;241m.\u001B[39mname \u001B[38;5;28;01mfor\u001B[39;00m rs \u001B[38;5;129;01min\u001B[39;00m \u001B[38;5;28mself\u001B[39m\u001B[38;5;241m.\u001B[39mresponse_schemas]\n\u001B[0;32m---> 97\u001B[0m     \u001B[38;5;28;01mreturn\u001B[39;00m parse_and_check_json_markdown(text, expected_keys)\n",
      "File \u001B[0;32m~/miniconda3/envs/langchain-demo/lib/python3.11/site-packages/langchain_core/utils/json.py:185\u001B[0m, in \u001B[0;36mparse_and_check_json_markdown\u001B[0;34m(text, expected_keys)\u001B[0m\n\u001B[1;32m    183\u001B[0m     json_obj \u001B[38;5;241m=\u001B[39m parse_json_markdown(text)\n\u001B[1;32m    184\u001B[0m \u001B[38;5;28;01mexcept\u001B[39;00m json\u001B[38;5;241m.\u001B[39mJSONDecodeError \u001B[38;5;28;01mas\u001B[39;00m e:\n\u001B[0;32m--> 185\u001B[0m     \u001B[38;5;28;01mraise\u001B[39;00m OutputParserException(\u001B[38;5;124mf\u001B[39m\u001B[38;5;124m\"\u001B[39m\u001B[38;5;124mGot invalid JSON object. Error: \u001B[39m\u001B[38;5;132;01m{\u001B[39;00me\u001B[38;5;132;01m}\u001B[39;00m\u001B[38;5;124m\"\u001B[39m)\n\u001B[1;32m    186\u001B[0m \u001B[38;5;28;01mfor\u001B[39;00m key \u001B[38;5;129;01min\u001B[39;00m expected_keys:\n\u001B[1;32m    187\u001B[0m     \u001B[38;5;28;01mif\u001B[39;00m key \u001B[38;5;129;01mnot\u001B[39;00m \u001B[38;5;129;01min\u001B[39;00m json_obj:\n",
      "\u001B[0;31mOutputParserException\u001B[0m: Got invalid JSON object. Error: Expecting value: line 1 column 1 (char 0)"
     ]
    }
   ],
   "execution_count": 4
  },
  {
   "metadata": {},
   "cell_type": "code",
   "outputs": [],
   "execution_count": null,
   "source": "",
   "id": "3a9b58746d55daa8"
  }
 ],
 "metadata": {
  "kernelspec": {
   "display_name": "langchain-demo",
   "language": "python",
   "name": "langchain-demo"
  },
  "language_info": {
   "codemirror_mode": {
    "name": "ipython",
    "version": 2
   },
   "file_extension": ".py",
   "mimetype": "text/x-python",
   "name": "python",
   "nbconvert_exporter": "python",
   "pygments_lexer": "ipython2",
   "version": "2.7.6"
  }
 },
 "nbformat": 4,
 "nbformat_minor": 5
}
